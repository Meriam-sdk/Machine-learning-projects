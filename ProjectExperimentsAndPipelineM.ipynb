{
 "cells": [
  {
   "cell_type": "markdown",
   "metadata": {},
   "source": [
    "# Utilizing machine learning algorithms to predict CO2 emissions from vehicle features in the UK\n",
    "\n",
    "### Meriam Saad Kharchef\n",
    "\n",
    "## MSc Big Data Science - Final Project\n",
    "### In this notebook, I will Implement the training, testing and tuning of the chosen regression models "
   ]
  },
  {
   "cell_type": "markdown",
   "metadata": {
    "id": "BrxOAxcx_oz-"
   },
   "source": [
    "Here i will be testing 3 Machine Learning models without hyper parameter tuning that are:\n",
    "\n",
    "\n",
    "\n",
    "*   XGBoost eXtreme Gradient Boosting\n",
    "*   KNN K-Nearest Neighbors Algorithm (regressor)\n",
    "*   SVR support vector regression\n",
    "\n",
    "These models were chosen because they are known to preferom well with regression tasks\n",
    "\n",
    "\n",
    "XGBoost doesnt require feature scaling while Both K-Nearest Neighbors (KNN) and Support Vector Regression (SVR) rely on distance-based metrics to make predictions, so feature scaling is necessary to ensure that each feature contributes equally to the distance computation, preventing features with larger scales from disproportionately influencing the model's results."
   ]
  },
  {
   "cell_type": "markdown",
   "metadata": {},
   "source": [
    "# Why these models were chosen"
   ]
  },
  {
   "cell_type": "markdown",
   "metadata": {},
   "source": [
    "XGBoost: the speed, accuracy, and ability to handle linear/nonlinear data.  its use in various fields and its performance compared to other models.its advantages for large data sets and performance.\n",
    "\n",
    "K-Nearest Neighbors (KNN): The explanation of KNN's application for both regression and classification, and its ability to handle correlated features and adapt to changing data densities.\n",
    "\n",
    "Support Vector Regressor (SVR): SVR focuses on its ability to handle outliers, overfitting issues, and the generalization capability of the model. "
   ]
  },
  {
   "cell_type": "markdown",
   "metadata": {
    "id": "zkJz_L2dM7n7"
   },
   "source": [
    "# Training testing XGBoost with ordinal encoding for catigorical features"
   ]
  },
  {
   "cell_type": "markdown",
   "metadata": {
    "id": "q1Wtv3jjABi2"
   },
   "source": [
    "## Imports"
   ]
  },
  {
   "cell_type": "code",
   "execution_count": 1,
   "metadata": {
    "id": "1Z1CB9cNM9Dc"
   },
   "outputs": [],
   "source": [
    "import pandas as pd\n",
    "import xgboost as xgb\n",
    "from sklearn.model_selection import train_test_split\n",
    "from sklearn.metrics import mean_squared_error, r2_score\n",
    "from sklearn.tree import DecisionTreeRegressor\n",
    "from sklearn import linear_model\n",
    "from joblib import dump\n",
    "from collections import OrderedDict as OrderedSet\n",
    "import numpy as np\n"
   ]
  },
  {
   "cell_type": "markdown",
   "metadata": {
    "id": "tDF51yVMAEnX"
   },
   "source": [
    "Loading the data"
   ]
  },
  {
   "cell_type": "code",
   "execution_count": 2,
   "metadata": {
    "id": "ROE0ceKOM6FW"
   },
   "outputs": [],
   "source": [
    "govData = pd.read_csv('UK_gov_cleaned_data.csv', encoding=\"ISO-8859-1\")\n"
   ]
  },
  {
   "cell_type": "markdown",
   "metadata": {
    "id": "edBVoef5AOXJ"
   },
   "source": [
    "## Define Features and Target"
   ]
  },
  {
   "cell_type": "code",
   "execution_count": 3,
   "metadata": {
    "id": "9FHxHIBPAQd1"
   },
   "outputs": [],
   "source": [
    "ctsFeatures = [\"Engine Capacity\", \"Engine Power (PS)\"]\n",
    "cateFeatures = [\"Manufacturer\", \"Transmission\", \"Fuel Type\", \"Powertrain\",\"Year\"]\n",
    "features = ctsFeatures + cateFeatures\n",
    "target = \"WLTP CO2\""
   ]
  },
  {
   "cell_type": "markdown",
   "metadata": {
    "id": "t9pu8oBtAVew"
   },
   "source": [
    "## Prepare Data with Ordinal Encoding"
   ]
  },
  {
   "cell_type": "code",
   "execution_count": 4,
   "metadata": {
    "id": "Epd9Bey1AVv7"
   },
   "outputs": [],
   "source": [
    "from collections import OrderedDict as OrderedSet\n",
    "\n",
    "# Copy the required columns\n",
    "X_ordinal = govData[features].copy()\n",
    "y = govData[target]\n",
    "\n",
    "# Perform ordinal encoding\n",
    "cateDict = {}\n",
    "for category in cateFeatures:\n",
    "    value = 0\n",
    "    cateDict[category] = dict()\n",
    "    for option in OrderedSet(X_ordinal[category]):\n",
    "        cateDict[category][option] = value\n",
    "        value += 1\n",
    "    X_ordinal[category] = X_ordinal[category].map(cateDict[category])\n"
   ]
  },
  {
   "cell_type": "markdown",
   "metadata": {
    "id": "fHHJM-vqAAaw"
   },
   "source": [
    "## Split Data into Training and Test Sets"
   ]
  },
  {
   "cell_type": "code",
   "execution_count": 5,
   "metadata": {
    "id": "VAWuAVZp_xq4"
   },
   "outputs": [],
   "source": [
    "from sklearn.model_selection import train_test_split\n",
    "\n",
    "testSize = 0.2\n",
    "X_train, X_test, y_train, y_test = train_test_split(X_ordinal, y, test_size=testSize, random_state=1)\n"
   ]
  },
  {
   "cell_type": "markdown",
   "metadata": {
    "id": "fa_gsw_PAs_f"
   },
   "source": [
    " Train the Model"
   ]
  },
  {
   "cell_type": "code",
   "execution_count": 6,
   "metadata": {
    "colab": {
     "base_uri": "https://localhost:8080/",
     "height": 248
    },
    "id": "al7d_1MnAtJd",
    "outputId": "2de94b93-1510-4bae-809d-77191a8d88b7"
   },
   "outputs": [
    {
     "data": {
      "text/html": [
       "<style>#sk-container-id-1 {color: black;background-color: white;}#sk-container-id-1 pre{padding: 0;}#sk-container-id-1 div.sk-toggleable {background-color: white;}#sk-container-id-1 label.sk-toggleable__label {cursor: pointer;display: block;width: 100%;margin-bottom: 0;padding: 0.3em;box-sizing: border-box;text-align: center;}#sk-container-id-1 label.sk-toggleable__label-arrow:before {content: \"▸\";float: left;margin-right: 0.25em;color: #696969;}#sk-container-id-1 label.sk-toggleable__label-arrow:hover:before {color: black;}#sk-container-id-1 div.sk-estimator:hover label.sk-toggleable__label-arrow:before {color: black;}#sk-container-id-1 div.sk-toggleable__content {max-height: 0;max-width: 0;overflow: hidden;text-align: left;background-color: #f0f8ff;}#sk-container-id-1 div.sk-toggleable__content pre {margin: 0.2em;color: black;border-radius: 0.25em;background-color: #f0f8ff;}#sk-container-id-1 input.sk-toggleable__control:checked~div.sk-toggleable__content {max-height: 200px;max-width: 100%;overflow: auto;}#sk-container-id-1 input.sk-toggleable__control:checked~label.sk-toggleable__label-arrow:before {content: \"▾\";}#sk-container-id-1 div.sk-estimator input.sk-toggleable__control:checked~label.sk-toggleable__label {background-color: #d4ebff;}#sk-container-id-1 div.sk-label input.sk-toggleable__control:checked~label.sk-toggleable__label {background-color: #d4ebff;}#sk-container-id-1 input.sk-hidden--visually {border: 0;clip: rect(1px 1px 1px 1px);clip: rect(1px, 1px, 1px, 1px);height: 1px;margin: -1px;overflow: hidden;padding: 0;position: absolute;width: 1px;}#sk-container-id-1 div.sk-estimator {font-family: monospace;background-color: #f0f8ff;border: 1px dotted black;border-radius: 0.25em;box-sizing: border-box;margin-bottom: 0.5em;}#sk-container-id-1 div.sk-estimator:hover {background-color: #d4ebff;}#sk-container-id-1 div.sk-parallel-item::after {content: \"\";width: 100%;border-bottom: 1px solid gray;flex-grow: 1;}#sk-container-id-1 div.sk-label:hover label.sk-toggleable__label {background-color: #d4ebff;}#sk-container-id-1 div.sk-serial::before {content: \"\";position: absolute;border-left: 1px solid gray;box-sizing: border-box;top: 0;bottom: 0;left: 50%;z-index: 0;}#sk-container-id-1 div.sk-serial {display: flex;flex-direction: column;align-items: center;background-color: white;padding-right: 0.2em;padding-left: 0.2em;position: relative;}#sk-container-id-1 div.sk-item {position: relative;z-index: 1;}#sk-container-id-1 div.sk-parallel {display: flex;align-items: stretch;justify-content: center;background-color: white;position: relative;}#sk-container-id-1 div.sk-item::before, #sk-container-id-1 div.sk-parallel-item::before {content: \"\";position: absolute;border-left: 1px solid gray;box-sizing: border-box;top: 0;bottom: 0;left: 50%;z-index: -1;}#sk-container-id-1 div.sk-parallel-item {display: flex;flex-direction: column;z-index: 1;position: relative;background-color: white;}#sk-container-id-1 div.sk-parallel-item:first-child::after {align-self: flex-end;width: 50%;}#sk-container-id-1 div.sk-parallel-item:last-child::after {align-self: flex-start;width: 50%;}#sk-container-id-1 div.sk-parallel-item:only-child::after {width: 0;}#sk-container-id-1 div.sk-dashed-wrapped {border: 1px dashed gray;margin: 0 0.4em 0.5em 0.4em;box-sizing: border-box;padding-bottom: 0.4em;background-color: white;}#sk-container-id-1 div.sk-label label {font-family: monospace;font-weight: bold;display: inline-block;line-height: 1.2em;}#sk-container-id-1 div.sk-label-container {text-align: center;}#sk-container-id-1 div.sk-container {/* jupyter's `normalize.less` sets `[hidden] { display: none; }` but bootstrap.min.css set `[hidden] { display: none !important; }` so we also need the `!important` here to be able to override the default hidden behavior on the sphinx rendered scikit-learn.org. See: https://github.com/scikit-learn/scikit-learn/issues/21755 */display: inline-block !important;position: relative;}#sk-container-id-1 div.sk-text-repr-fallback {display: none;}</style><div id=\"sk-container-id-1\" class=\"sk-top-container\"><div class=\"sk-text-repr-fallback\"><pre>XGBRegressor(base_score=None, booster=None, callbacks=None,\n",
       "             colsample_bylevel=None, colsample_bynode=None,\n",
       "             colsample_bytree=None, early_stopping_rounds=None,\n",
       "             enable_categorical=False, eval_metric=None, feature_types=None,\n",
       "             gamma=None, gpu_id=None, grow_policy=None, importance_type=None,\n",
       "             interaction_constraints=None, learning_rate=0.1, max_bin=None,\n",
       "             max_cat_threshold=None, max_cat_to_onehot=None,\n",
       "             max_delta_step=None, max_depth=10, max_leaves=None,\n",
       "             min_child_weight=None, missing=nan, monotone_constraints=None,\n",
       "             n_estimators=50, n_jobs=None, num_parallel_tree=None,\n",
       "             predictor=None, random_state=None, ...)</pre><b>In a Jupyter environment, please rerun this cell to show the HTML representation or trust the notebook. <br />On GitHub, the HTML representation is unable to render, please try loading this page with nbviewer.org.</b></div><div class=\"sk-container\" hidden><div class=\"sk-item\"><div class=\"sk-estimator sk-toggleable\"><input class=\"sk-toggleable__control sk-hidden--visually\" id=\"sk-estimator-id-1\" type=\"checkbox\" checked><label for=\"sk-estimator-id-1\" class=\"sk-toggleable__label sk-toggleable__label-arrow\">XGBRegressor</label><div class=\"sk-toggleable__content\"><pre>XGBRegressor(base_score=None, booster=None, callbacks=None,\n",
       "             colsample_bylevel=None, colsample_bynode=None,\n",
       "             colsample_bytree=None, early_stopping_rounds=None,\n",
       "             enable_categorical=False, eval_metric=None, feature_types=None,\n",
       "             gamma=None, gpu_id=None, grow_policy=None, importance_type=None,\n",
       "             interaction_constraints=None, learning_rate=0.1, max_bin=None,\n",
       "             max_cat_threshold=None, max_cat_to_onehot=None,\n",
       "             max_delta_step=None, max_depth=10, max_leaves=None,\n",
       "             min_child_weight=None, missing=nan, monotone_constraints=None,\n",
       "             n_estimators=50, n_jobs=None, num_parallel_tree=None,\n",
       "             predictor=None, random_state=None, ...)</pre></div></div></div></div></div>"
      ],
      "text/plain": [
       "XGBRegressor(base_score=None, booster=None, callbacks=None,\n",
       "             colsample_bylevel=None, colsample_bynode=None,\n",
       "             colsample_bytree=None, early_stopping_rounds=None,\n",
       "             enable_categorical=False, eval_metric=None, feature_types=None,\n",
       "             gamma=None, gpu_id=None, grow_policy=None, importance_type=None,\n",
       "             interaction_constraints=None, learning_rate=0.1, max_bin=None,\n",
       "             max_cat_threshold=None, max_cat_to_onehot=None,\n",
       "             max_delta_step=None, max_depth=10, max_leaves=None,\n",
       "             min_child_weight=None, missing=nan, monotone_constraints=None,\n",
       "             n_estimators=50, n_jobs=None, num_parallel_tree=None,\n",
       "             predictor=None, random_state=None, ...)"
      ]
     },
     "execution_count": 6,
     "metadata": {},
     "output_type": "execute_result"
    }
   ],
   "source": [
    "import xgboost as xgb\n",
    "\n",
    "xgb_model = xgb.XGBRegressor(objective='reg:squarederror', learning_rate=0.1, max_depth=10, n_estimators=50, seed=1)\n",
    "xgb_model.fit(X_train, y_train)\n"
   ]
  },
  {
   "cell_type": "markdown",
   "metadata": {
    "id": "ZS-s2aEkA920"
   },
   "source": [
    "## Evaluating Training Performance"
   ]
  },
  {
   "cell_type": "code",
   "execution_count": 7,
   "metadata": {
    "colab": {
     "base_uri": "https://localhost:8080/"
    },
    "id": "sR-Y1G3KA-BZ",
    "outputId": "9dd5c77f-c698-4ad5-c4d3-241ff30fa686"
   },
   "outputs": [
    {
     "name": "stdout",
     "output_type": "stream",
     "text": [
      "Train RMSE: 17.346056700207225\n",
      "Train R2: 0.8975081472170376\n"
     ]
    }
   ],
   "source": [
    "from sklearn.metrics import mean_squared_error, r2_score\n",
    "import numpy as np\n",
    "\n",
    "train_preds = xgb_model.predict(X_train)\n",
    "train_rmse = np.sqrt(mean_squared_error(y_train, train_preds))\n",
    "train_r2 = r2_score(y_train, train_preds)\n",
    "print(\"Train RMSE:\", train_rmse)\n",
    "print(\"Train R2:\", train_r2)\n"
   ]
  },
  {
   "cell_type": "markdown",
   "metadata": {
    "id": "1mBBk279BHQi"
   },
   "source": [
    "## Testing the model"
   ]
  },
  {
   "cell_type": "code",
   "execution_count": 8,
   "metadata": {
    "colab": {
     "base_uri": "https://localhost:8080/"
    },
    "id": "G1XBM7vGBHYv",
    "outputId": "e2510d5c-4c5a-43fe-ca6c-b23be7f56b06",
    "scrolled": true
   },
   "outputs": [
    {
     "name": "stdout",
     "output_type": "stream",
     "text": [
      "Test RMSE: 17.898733506260537\n",
      "Test R2: 0.8885188667469246\n"
     ]
    }
   ],
   "source": [
    "test_preds = xgb_model.predict(X_test)\n",
    "test_rmse = np.sqrt(mean_squared_error(y_test, test_preds))\n",
    "test_r2 = r2_score(y_test, test_preds)\n",
    "print(\"Test RMSE:\", test_rmse)\n",
    "print(\"Test R2:\", test_r2)\n"
   ]
  },
  {
   "cell_type": "markdown",
   "metadata": {
    "id": "AASwYPIca1Vw"
   },
   "source": []
  },
  {
   "cell_type": "code",
   "execution_count": null,
   "metadata": {
    "id": "TgaqDwAOa1qP"
   },
   "outputs": [],
   "source": [
    "\n"
   ]
  },
  {
   "cell_type": "markdown",
   "metadata": {
    "id": "1TVg9BytBj8o"
   },
   "source": [
    "## Now expermenting with XGBoost One-hot encoding for catigorical features"
   ]
  },
  {
   "cell_type": "markdown",
   "metadata": {
    "id": "25MDOwHCCYIV"
   },
   "source": [
    "## Define Features and Target"
   ]
  },
  {
   "cell_type": "code",
   "execution_count": 9,
   "metadata": {
    "id": "q4zFZgHbBkKX"
   },
   "outputs": [],
   "source": [
    "ctsFeatures = [\"Engine Capacity\", \"Engine Power (PS)\"]\n",
    "cateFeatures = [\"Manufacturer\", \"Transmission\", \"Fuel Type\", \"Powertrain\",\"Year\"]\n",
    "features = ctsFeatures + cateFeatures\n",
    "target = \"WLTP CO2\""
   ]
  },
  {
   "cell_type": "markdown",
   "metadata": {
    "id": "mn_7Mg6kCbuu"
   },
   "source": [
    "## Prepare Data with One-Hot Encoding"
   ]
  },
  {
   "cell_type": "code",
   "execution_count": 10,
   "metadata": {
    "id": "kFKTC3ugCbOd"
   },
   "outputs": [],
   "source": [
    "# Copy the required columns\n",
    "X_onehot = govData[features].copy()\n",
    "y = govData[target]\n",
    "\n",
    "# Perform one-hot encoding\n",
    "X_onehot = pd.get_dummies(data=X_onehot, drop_first=True, columns=cateFeatures)\n"
   ]
  },
  {
   "cell_type": "markdown",
   "metadata": {
    "id": "bCj8gEPFCjQ3"
   },
   "source": [
    "## Split Data into Training and Test Sets"
   ]
  },
  {
   "cell_type": "code",
   "execution_count": 11,
   "metadata": {
    "id": "afJoT593Cjal"
   },
   "outputs": [],
   "source": [
    "from sklearn.model_selection import train_test_split\n",
    "\n",
    "testSize = 0.2\n",
    "X_train, X_test, y_train, y_test = train_test_split(X_onehot, y, test_size=testSize, random_state=1)"
   ]
  },
  {
   "cell_type": "markdown",
   "metadata": {
    "id": "nC761NkqConU"
   },
   "source": [
    "## Train the Model"
   ]
  },
  {
   "cell_type": "code",
   "execution_count": 12,
   "metadata": {
    "colab": {
     "base_uri": "https://localhost:8080/",
     "height": 248
    },
    "id": "6Q-kGh6fCowu",
    "outputId": "df8ee56a-2378-4284-ba5b-bb9576d747d3"
   },
   "outputs": [
    {
     "data": {
      "text/html": [
       "<style>#sk-container-id-2 {color: black;background-color: white;}#sk-container-id-2 pre{padding: 0;}#sk-container-id-2 div.sk-toggleable {background-color: white;}#sk-container-id-2 label.sk-toggleable__label {cursor: pointer;display: block;width: 100%;margin-bottom: 0;padding: 0.3em;box-sizing: border-box;text-align: center;}#sk-container-id-2 label.sk-toggleable__label-arrow:before {content: \"▸\";float: left;margin-right: 0.25em;color: #696969;}#sk-container-id-2 label.sk-toggleable__label-arrow:hover:before {color: black;}#sk-container-id-2 div.sk-estimator:hover label.sk-toggleable__label-arrow:before {color: black;}#sk-container-id-2 div.sk-toggleable__content {max-height: 0;max-width: 0;overflow: hidden;text-align: left;background-color: #f0f8ff;}#sk-container-id-2 div.sk-toggleable__content pre {margin: 0.2em;color: black;border-radius: 0.25em;background-color: #f0f8ff;}#sk-container-id-2 input.sk-toggleable__control:checked~div.sk-toggleable__content {max-height: 200px;max-width: 100%;overflow: auto;}#sk-container-id-2 input.sk-toggleable__control:checked~label.sk-toggleable__label-arrow:before {content: \"▾\";}#sk-container-id-2 div.sk-estimator input.sk-toggleable__control:checked~label.sk-toggleable__label {background-color: #d4ebff;}#sk-container-id-2 div.sk-label input.sk-toggleable__control:checked~label.sk-toggleable__label {background-color: #d4ebff;}#sk-container-id-2 input.sk-hidden--visually {border: 0;clip: rect(1px 1px 1px 1px);clip: rect(1px, 1px, 1px, 1px);height: 1px;margin: -1px;overflow: hidden;padding: 0;position: absolute;width: 1px;}#sk-container-id-2 div.sk-estimator {font-family: monospace;background-color: #f0f8ff;border: 1px dotted black;border-radius: 0.25em;box-sizing: border-box;margin-bottom: 0.5em;}#sk-container-id-2 div.sk-estimator:hover {background-color: #d4ebff;}#sk-container-id-2 div.sk-parallel-item::after {content: \"\";width: 100%;border-bottom: 1px solid gray;flex-grow: 1;}#sk-container-id-2 div.sk-label:hover label.sk-toggleable__label {background-color: #d4ebff;}#sk-container-id-2 div.sk-serial::before {content: \"\";position: absolute;border-left: 1px solid gray;box-sizing: border-box;top: 0;bottom: 0;left: 50%;z-index: 0;}#sk-container-id-2 div.sk-serial {display: flex;flex-direction: column;align-items: center;background-color: white;padding-right: 0.2em;padding-left: 0.2em;position: relative;}#sk-container-id-2 div.sk-item {position: relative;z-index: 1;}#sk-container-id-2 div.sk-parallel {display: flex;align-items: stretch;justify-content: center;background-color: white;position: relative;}#sk-container-id-2 div.sk-item::before, #sk-container-id-2 div.sk-parallel-item::before {content: \"\";position: absolute;border-left: 1px solid gray;box-sizing: border-box;top: 0;bottom: 0;left: 50%;z-index: -1;}#sk-container-id-2 div.sk-parallel-item {display: flex;flex-direction: column;z-index: 1;position: relative;background-color: white;}#sk-container-id-2 div.sk-parallel-item:first-child::after {align-self: flex-end;width: 50%;}#sk-container-id-2 div.sk-parallel-item:last-child::after {align-self: flex-start;width: 50%;}#sk-container-id-2 div.sk-parallel-item:only-child::after {width: 0;}#sk-container-id-2 div.sk-dashed-wrapped {border: 1px dashed gray;margin: 0 0.4em 0.5em 0.4em;box-sizing: border-box;padding-bottom: 0.4em;background-color: white;}#sk-container-id-2 div.sk-label label {font-family: monospace;font-weight: bold;display: inline-block;line-height: 1.2em;}#sk-container-id-2 div.sk-label-container {text-align: center;}#sk-container-id-2 div.sk-container {/* jupyter's `normalize.less` sets `[hidden] { display: none; }` but bootstrap.min.css set `[hidden] { display: none !important; }` so we also need the `!important` here to be able to override the default hidden behavior on the sphinx rendered scikit-learn.org. See: https://github.com/scikit-learn/scikit-learn/issues/21755 */display: inline-block !important;position: relative;}#sk-container-id-2 div.sk-text-repr-fallback {display: none;}</style><div id=\"sk-container-id-2\" class=\"sk-top-container\"><div class=\"sk-text-repr-fallback\"><pre>XGBRegressor(base_score=None, booster=None, callbacks=None,\n",
       "             colsample_bylevel=None, colsample_bynode=None,\n",
       "             colsample_bytree=None, early_stopping_rounds=None,\n",
       "             enable_categorical=False, eval_metric=None, feature_types=None,\n",
       "             gamma=None, gpu_id=None, grow_policy=None, importance_type=None,\n",
       "             interaction_constraints=None, learning_rate=0.1, max_bin=None,\n",
       "             max_cat_threshold=None, max_cat_to_onehot=None,\n",
       "             max_delta_step=None, max_depth=10, max_leaves=None,\n",
       "             min_child_weight=None, missing=nan, monotone_constraints=None,\n",
       "             n_estimators=50, n_jobs=None, num_parallel_tree=None,\n",
       "             predictor=None, random_state=None, ...)</pre><b>In a Jupyter environment, please rerun this cell to show the HTML representation or trust the notebook. <br />On GitHub, the HTML representation is unable to render, please try loading this page with nbviewer.org.</b></div><div class=\"sk-container\" hidden><div class=\"sk-item\"><div class=\"sk-estimator sk-toggleable\"><input class=\"sk-toggleable__control sk-hidden--visually\" id=\"sk-estimator-id-2\" type=\"checkbox\" checked><label for=\"sk-estimator-id-2\" class=\"sk-toggleable__label sk-toggleable__label-arrow\">XGBRegressor</label><div class=\"sk-toggleable__content\"><pre>XGBRegressor(base_score=None, booster=None, callbacks=None,\n",
       "             colsample_bylevel=None, colsample_bynode=None,\n",
       "             colsample_bytree=None, early_stopping_rounds=None,\n",
       "             enable_categorical=False, eval_metric=None, feature_types=None,\n",
       "             gamma=None, gpu_id=None, grow_policy=None, importance_type=None,\n",
       "             interaction_constraints=None, learning_rate=0.1, max_bin=None,\n",
       "             max_cat_threshold=None, max_cat_to_onehot=None,\n",
       "             max_delta_step=None, max_depth=10, max_leaves=None,\n",
       "             min_child_weight=None, missing=nan, monotone_constraints=None,\n",
       "             n_estimators=50, n_jobs=None, num_parallel_tree=None,\n",
       "             predictor=None, random_state=None, ...)</pre></div></div></div></div></div>"
      ],
      "text/plain": [
       "XGBRegressor(base_score=None, booster=None, callbacks=None,\n",
       "             colsample_bylevel=None, colsample_bynode=None,\n",
       "             colsample_bytree=None, early_stopping_rounds=None,\n",
       "             enable_categorical=False, eval_metric=None, feature_types=None,\n",
       "             gamma=None, gpu_id=None, grow_policy=None, importance_type=None,\n",
       "             interaction_constraints=None, learning_rate=0.1, max_bin=None,\n",
       "             max_cat_threshold=None, max_cat_to_onehot=None,\n",
       "             max_delta_step=None, max_depth=10, max_leaves=None,\n",
       "             min_child_weight=None, missing=nan, monotone_constraints=None,\n",
       "             n_estimators=50, n_jobs=None, num_parallel_tree=None,\n",
       "             predictor=None, random_state=None, ...)"
      ]
     },
     "execution_count": 12,
     "metadata": {},
     "output_type": "execute_result"
    }
   ],
   "source": [
    "import xgboost as xgb\n",
    "\n",
    "xgb_model = xgb.XGBRegressor(objective='reg:squarederror', learning_rate=0.1, max_depth=10, n_estimators=50, seed=1)\n",
    "xgb_model.fit(X_train, y_train)"
   ]
  },
  {
   "cell_type": "markdown",
   "metadata": {
    "id": "fCx9zezfCzAU"
   },
   "source": [
    "## Evaluate Training Performance"
   ]
  },
  {
   "cell_type": "code",
   "execution_count": 13,
   "metadata": {
    "colab": {
     "base_uri": "https://localhost:8080/"
    },
    "id": "IyEZfti0CzKj",
    "outputId": "0c266465-94e9-4f96-b09a-86847428796e"
   },
   "outputs": [
    {
     "name": "stdout",
     "output_type": "stream",
     "text": [
      "Train RMSE: 11.78314877447576\n",
      "Train R2: 0.9527055103888838\n"
     ]
    }
   ],
   "source": [
    "from sklearn.metrics import mean_squared_error, r2_score\n",
    "import numpy as np\n",
    "\n",
    "train_preds = xgb_model.predict(X_train)\n",
    "train_rmse = np.sqrt(mean_squared_error(y_train, train_preds))\n",
    "train_r2 = r2_score(y_train, train_preds)\n",
    "print(\"Train RMSE:\", train_rmse)\n",
    "print(\"Train R2:\", train_r2)"
   ]
  },
  {
   "cell_type": "markdown",
   "metadata": {
    "id": "ckDldBBlv1c8"
   },
   "source": [
    "Evaluate Testing Performance"
   ]
  },
  {
   "cell_type": "code",
   "execution_count": 14,
   "metadata": {
    "colab": {
     "base_uri": "https://localhost:8080/"
    },
    "id": "X-jCDmagv1tQ",
    "outputId": "a5e64d6a-2192-43d7-c043-8e0c0185da04"
   },
   "outputs": [
    {
     "name": "stdout",
     "output_type": "stream",
     "text": [
      "Test RMSE: 13.054914254540938\n",
      "Test R2: 0.9406931553588072\n"
     ]
    }
   ],
   "source": [
    "test_preds = xgb_model.predict(X_test)\n",
    "test_rmse = np.sqrt(mean_squared_error(y_test, test_preds))\n",
    "test_r2 = r2_score(y_test, test_preds)\n",
    "print(\"Test RMSE:\", test_rmse)\n",
    "print(\"Test R2:\", test_r2)\n"
   ]
  },
  {
   "cell_type": "markdown",
   "metadata": {
    "id": "u7wQIJBqE3fE"
   },
   "source": [
    "# Using KNN One-hot ecoding"
   ]
  },
  {
   "cell_type": "markdown",
   "metadata": {
    "id": "x9VS52toGg-4"
   },
   "source": [
    "## Impute and Scale the Data"
   ]
  },
  {
   "cell_type": "code",
   "execution_count": 15,
   "metadata": {
    "id": "gj0DtqCEGNiq"
   },
   "outputs": [],
   "source": [
    "from sklearn.impute import SimpleImputer\n",
    "from sklearn.preprocessing import StandardScaler\n",
    "\n",
    "# Create an imputer object that replaces 'NaN' with the mean value of the column\n",
    "imputer = SimpleImputer(missing_values=np.nan, strategy='mean')\n",
    "\n",
    "# Apply the imputer to your one-hot encoded data\n",
    "X_train_imputed = imputer.fit_transform(X_train)\n",
    "X_test_imputed = imputer.transform(X_test)  # use the same imputer to ensure the same transformation\n",
    "\n",
    "# Scale the data (important for KNN due to its reliance on distances)\n",
    "scaler = StandardScaler()\n",
    "X_train_scaled = scaler.fit_transform(X_train_imputed)\n",
    "X_test_scaled = scaler.transform(X_test_imputed)\n"
   ]
  },
  {
   "cell_type": "markdown",
   "metadata": {
    "id": "cdR9kGgFGzYH"
   },
   "source": [
    "## Train and Test the KNN Model"
   ]
  },
  {
   "cell_type": "code",
   "execution_count": 16,
   "metadata": {
    "colab": {
     "base_uri": "https://localhost:8080/"
    },
    "id": "39aZdIMRGzhh",
    "outputId": "8b7ea09e-95a4-4b52-898c-3bbaca281752"
   },
   "outputs": [
    {
     "name": "stdout",
     "output_type": "stream",
     "text": [
      "\n",
      "(3) Scikit KNN - One-hot\n",
      "Train RMSE: 12.765978\n",
      "Test RMSE: 15.153627\n",
      "Train Accuracy: 0.944487\n",
      "Test Accuracy: 0.920092\n"
     ]
    }
   ],
   "source": [
    "from sklearn.neighbors import KNeighborsRegressor\n",
    "\n",
    "print(\"\\n(3) Scikit KNN - One-hot\")\n",
    "\n",
    "# Instantiate KNN regressor and fit with One-hot encoding\n",
    "knn = KNeighborsRegressor(n_neighbors=5)  # You can change n_neighbors as needed\n",
    "knn = knn.fit(X_train_scaled, y_train)\n",
    "trainPreds = knn.predict(X_train_scaled)\n",
    "testPreds = knn.predict(X_test_scaled)\n",
    "\n",
    "# Calculate RMSE of KNN on training and testing data\n",
    "print(\"Train RMSE: %f\" % (np.sqrt(mean_squared_error(y_train, trainPreds))))\n",
    "print(\"Test RMSE: %f\" % (np.sqrt(mean_squared_error(y_test, testPreds))))\n",
    "print(\"Train Accuracy: %f\" % (r2_score(y_train, trainPreds)))\n",
    "print(\"Test Accuracy: %f\" % (r2_score(y_test, testPreds)))\n"
   ]
  },
  {
   "cell_type": "markdown",
   "metadata": {
    "id": "FdH5sCMJE3uo"
   },
   "source": [
    "## KNN with Ordianl Encoding"
   ]
  },
  {
   "cell_type": "code",
   "execution_count": 17,
   "metadata": {
    "colab": {
     "base_uri": "https://localhost:8080/"
    },
    "id": "pbFczl4HmSbb",
    "outputId": "aa084d6a-cc7f-4228-a081-a5c7dabae57c"
   },
   "outputs": [
    {
     "name": "stdout",
     "output_type": "stream",
     "text": [
      "\n",
      "(3) Scikit KNN - Ordinal\n",
      "Train RMSE: 18.903668\n",
      "Test RMSE: 19.776076\n",
      "Train Accuracy: 0.878275\n",
      "Test Accuracy: 0.863907\n"
     ]
    }
   ],
   "source": [
    "from sklearn.model_selection import train_test_split\n",
    "from sklearn.impute import SimpleImputer\n",
    "from sklearn.preprocessing import StandardScaler\n",
    "from sklearn.neighbors import KNeighborsRegressor\n",
    "\n",
    "# Split data into training and test sets\n",
    "X_train_ordinal, X_test_ordinal, y_train, y_test = train_test_split(X_ordinal, y, test_size=0.2, random_state=1)\n",
    "\n",
    "# Create an imputer object that replaces 'NaN' with the mean value of the column\n",
    "imputer = SimpleImputer(missing_values=np.nan, strategy='mean')\n",
    "\n",
    "# Apply the imputer\n",
    "X_train_ordinal_imputed = imputer.fit_transform(X_train_ordinal)\n",
    "X_test_ordinal_imputed = imputer.transform(X_test_ordinal)\n",
    "\n",
    "# Scale the data\n",
    "scaler = StandardScaler()\n",
    "X_train_ordinal_scaled = scaler.fit_transform(X_train_ordinal_imputed)\n",
    "X_test_ordinal_scaled = scaler.transform(X_test_ordinal_imputed)\n",
    "\n",
    "print(\"\\n(3) Scikit KNN - Ordinal\")\n",
    "\n",
    "# Instantiate KNN regressor and fit with Ordinal encoding\n",
    "knn = KNeighborsRegressor(n_neighbors=5)\n",
    "knn = knn.fit(X_train_ordinal_scaled, y_train)\n",
    "trainPreds = knn.predict(X_train_ordinal_scaled)\n",
    "testPreds = knn.predict(X_test_ordinal_scaled)\n",
    "\n",
    "# Calculate RMSE of KNN on training and testing data\n",
    "print(\"Train RMSE: %f\" % (np.sqrt(mean_squared_error(y_train, trainPreds))))\n",
    "print(\"Test RMSE: %f\" % (np.sqrt(mean_squared_error(y_test, testPreds))))\n",
    "print(\"Train Accuracy: %f\" % (r2_score(y_train, trainPreds)))\n",
    "print(\"Test Accuracy: %f\" % (r2_score(y_test, testPreds)))\n"
   ]
  },
  {
   "cell_type": "markdown",
   "metadata": {
    "id": "icwtb_wuLQ8x"
   },
   "source": [
    "# Support Vector Regressor SVR with ordinal encoding"
   ]
  },
  {
   "cell_type": "code",
   "execution_count": 18,
   "metadata": {
    "colab": {
     "base_uri": "https://localhost:8080/"
    },
    "id": "nM__Zig2nYnL",
    "outputId": "cbd395a7-6e94-4186-f802-88fc689b67ce"
   },
   "outputs": [
    {
     "name": "stdout",
     "output_type": "stream",
     "text": [
      "\n",
      "(3) Scikit SVR - Ordinal\n",
      "Train RMSE: 38.832874\n",
      "Test RMSE: 38.136703\n",
      "Train Accuracy: 0.486327\n",
      "Test Accuracy: 0.493892\n"
     ]
    }
   ],
   "source": [
    "from sklearn.impute import SimpleImputer\n",
    "from sklearn.preprocessing import StandardScaler\n",
    "from sklearn.svm import SVR\n",
    "from sklearn.metrics import mean_squared_error, r2_score\n",
    "\n",
    "# Create an imputer object that replaces 'NaN' with the mean value of the column\n",
    "imputer = SimpleImputer(missing_values=np.nan, strategy='mean')\n",
    "\n",
    "# Apply the imputer to your ordinal data\n",
    "X_train_ordinal_imputed = imputer.fit_transform(X_train_ordinal)\n",
    "X_test_ordinal_imputed = imputer.transform(X_test_ordinal)\n",
    "\n",
    "# Scale the data\n",
    "scaler = StandardScaler()\n",
    "X_train_ordinal_scaled = scaler.fit_transform(X_train_ordinal_imputed)\n",
    "X_test_ordinal_scaled = scaler.transform(X_test_ordinal_imputed)\n",
    "\n",
    "print(\"\\n(3) Scikit SVR - Ordinal\")\n",
    "\n",
    "# Instantiate SVR and fit with Ordinal encoding\n",
    "svr = SVR(kernel='linear')  # using linear kernel as an example; you can explore other kernels like 'rbf', 'poly', etc.\n",
    "svr = svr.fit(X_train_ordinal_scaled, y_train)\n",
    "trainPreds = svr.predict(X_train_ordinal_scaled)\n",
    "testPreds = svr.predict(X_test_ordinal_scaled)\n",
    "\n",
    "# Calculate RMSE of SVR on training and testing data\n",
    "print(\"Train RMSE: %f\" % (np.sqrt(mean_squared_error(y_train, trainPreds))))\n",
    "print(\"Test RMSE: %f\" % (np.sqrt(mean_squared_error(y_test, testPreds))))\n",
    "print(\"Train Accuracy: %f\" % (r2_score(y_train, trainPreds)))\n",
    "print(\"Test Accuracy: %f\" % (r2_score(y_test, testPreds)))\n"
   ]
  },
  {
   "cell_type": "markdown",
   "metadata": {
    "id": "8SfqA4-cE3za"
   },
   "source": [
    "## Support vector regressor with one hot encoding"
   ]
  },
  {
   "cell_type": "code",
   "execution_count": 19,
   "metadata": {
    "colab": {
     "base_uri": "https://localhost:8080/"
    },
    "id": "brS3vnODp8mQ",
    "outputId": "1a30a4d4-226a-4499-91a6-c51090048fbe"
   },
   "outputs": [
    {
     "name": "stdout",
     "output_type": "stream",
     "text": [
      "Train RMSE: 0.28603595373197815\n",
      "Train R2: 0.9181834331726376\n",
      "Test RMSE: 0.2952924791682156\n",
      "Test R2: 0.9109213303672279\n"
     ]
    }
   ],
   "source": [
    "from sklearn.svm import SVR\n",
    "from sklearn.preprocessing import StandardScaler\n",
    "\n",
    "ctsFeatures = [\"Engine Capacity\", \"Engine Power (PS)\"]\n",
    "cateFeatures = [\"Manufacturer\", \"Transmission\", \"Fuel Type\", \"Powertrain\",\"Year\"]\n",
    "features = ctsFeatures + cateFeatures\n",
    "target = \"WLTP CO2\"\n",
    "\n",
    "# Copy the required columns\n",
    "X_onehot = govData[features].copy()\n",
    "y = govData[target]\n",
    "\n",
    "# Perform one-hot encoding\n",
    "X_onehot = pd.get_dummies(data=X_onehot, drop_first=True, columns=cateFeatures)\n",
    "from sklearn.model_selection import train_test_split\n",
    "\n",
    "testSize = 0.2\n",
    "X_train, X_test, y_train, y_test = train_test_split(X_onehot, y, test_size=testSize, random_state=1)\n",
    "\n",
    "# Scaling features (SVR requires feature scaling)\n",
    "scaler_X = StandardScaler()\n",
    "X_train = scaler_X.fit_transform(X_train)\n",
    "X_test = scaler_X.transform(X_test)\n",
    "\n",
    "scaler_y = StandardScaler()\n",
    "y_train = scaler_y.fit_transform(y_train.values.reshape(-1, 1))\n",
    "y_test = scaler_y.transform(y_test.values.reshape(-1, 1))\n",
    "\n",
    "# Create SVR model\n",
    "svr_model = SVR(kernel='rbf', C=1.0, epsilon=0.1)\n",
    "svr_model.fit(X_train, y_train.ravel())\n",
    "\n",
    "# Predictions and evaluation\n",
    "train_preds = svr_model.predict(X_train)\n",
    "train_rmse = np.sqrt(mean_squared_error(y_train, train_preds))\n",
    "train_r2 = r2_score(y_train, train_preds)\n",
    "print(\"Train RMSE:\", train_rmse)\n",
    "print(\"Train R2:\", train_r2)\n",
    "\n",
    "test_preds = svr_model.predict(X_test)\n",
    "test_rmse = np.sqrt(mean_squared_error(y_test, test_preds))\n",
    "test_r2 = r2_score(y_test, test_preds)\n",
    "print(\"Test RMSE:\", test_rmse)\n",
    "print(\"Test R2:\", test_r2)\n"
   ]
  },
  {
   "cell_type": "markdown",
   "metadata": {},
   "source": [
    "# FURTHER HYPER PARAMETER TUNING FOR ALL THREE MODELS"
   ]
  },
  {
   "cell_type": "markdown",
   "metadata": {
    "id": "XM6jzNX7-Ngp"
   },
   "source": [
    "### Because one hot encoding preformded well across all the chosen models i will be countinouing to use it  to futher do both basic and advanced hyper parameter tuning for all 3 models using both:\n",
    "\n",
    "### Basic: Using grid search cross validation (GSCV) (For The best preforming model i will plot actual vs predicted and a feature importance bar plot)\n",
    "\n",
    "### Advanced: Using Hyperopt using bayesian optimisation (For The best preforming model i will plot actual vs predicted and a feature importance bar plot)"
   ]
  },
  {
   "cell_type": "markdown",
   "metadata": {
    "id": "m3IA3B5mr1YH"
   },
   "source": [
    "# BASIC HYPER PARAMETER TUNING GSCV (GRID SEARCH CROSS VALIDATION )"
   ]
  },
  {
   "cell_type": "markdown",
   "metadata": {
    "id": "JV73nF_wE329"
   },
   "source": [
    "# GRID SEARCH CROSS VALIDATION FOR XGBOOST ONE HOT ENCODING"
   ]
  },
  {
   "cell_type": "markdown",
   "metadata": {},
   "source": [
    "#### the further hyper parameter tuning will be done using one hot encoding as it was the best prefroming encoding technique form what we have seen in the prevouis step"
   ]
  },
  {
   "cell_type": "markdown",
   "metadata": {
    "id": "BQrCC2Lp8xuS"
   },
   "source": [
    "## imports"
   ]
  },
  {
   "cell_type": "code",
   "execution_count": 20,
   "metadata": {
    "id": "F2Tkgq9l6CG3"
   },
   "outputs": [],
   "source": [
    "import pandas as pd\n",
    "from sklearn.model_selection import train_test_split, GridSearchCV\n",
    "from sklearn.metrics import mean_squared_error, r2_score\n",
    "from xgboost import XGBRegressor\n",
    "import numpy as np\n",
    "from joblib import dump\n",
    "\n",
    "# Read the CSV file using pandas\n",
    "govData = pd.read_csv('UK_gov_cleaned_data.csv', encoding=\"ISO-8859-1\")\n"
   ]
  },
  {
   "cell_type": "markdown",
   "metadata": {
    "id": "WqBWE_xJ81K0"
   },
   "source": [
    "## Define Features and Target:"
   ]
  },
  {
   "cell_type": "code",
   "execution_count": 21,
   "metadata": {
    "id": "coWD11qA81Wb"
   },
   "outputs": [],
   "source": [
    "ctsFeatures = [\"Engine Capacity\", \"Engine Power (PS)\"]\n",
    "cateFeatures = [\"Manufacturer\", \"Transmission\", \"Fuel Type\", \"Powertrain\",\"Year\"]\n",
    "features = ctsFeatures + cateFeatures\n",
    "target = \"WLTP CO2\"\n",
    "\n",
    "# Define arrays: features (X for one-hot encoding of categorical features), and target (y).\n",
    "X_onehot = govData[features].copy()\n",
    "y = govData[target]\n",
    "\n",
    "# Encode categorical features\n",
    "X_onehot = pd.get_dummies(X_onehot, columns=cateFeatures)\n"
   ]
  },
  {
   "cell_type": "markdown",
   "metadata": {
    "id": "9tSF5c-M87wS"
   },
   "source": [
    "## Split the Data into Training and Test Sets:"
   ]
  },
  {
   "cell_type": "code",
   "execution_count": 22,
   "metadata": {
    "id": "0Ek78EAl875t"
   },
   "outputs": [],
   "source": [
    "# Split the data into training and test sets.\n",
    "trainX_onehot, testX_onehot, trainy, testy = train_test_split(X_onehot, y, test_size=0.2, random_state=1)\n"
   ]
  },
  {
   "cell_type": "markdown",
   "metadata": {
    "id": "1kYQb7IR9CIJ"
   },
   "source": [
    "## Model Configuration and Grid Search:"
   ]
  },
  {
   "cell_type": "code",
   "execution_count": 23,
   "metadata": {
    "id": "1pSFSPwW9CRc"
   },
   "outputs": [
    {
     "name": "stdout",
     "output_type": "stream",
     "text": [
      "Best grid search hyperparameters:  {'colsample_bytree': 1.0, 'gamma': 0.5, 'learning_rate': 0.1, 'max_depth': 5, 'min_child_weight': 1, 'n_estimators': 300, 'subsample': 0.8}\n"
     ]
    }
   ],
   "source": [
    "# Parameter grid for GridSearchCV\n",
    "params_grid = {\n",
    "    \"min_child_weight\": [1, 5],\n",
    "    \"gamma\": [0.5, 1, 2],\n",
    "    \"subsample\": [0.6, 0.8, 1.0],\n",
    "    \"colsample_bytree\": [0.6, 0.8, 1.0],\n",
    "    \"max_depth\": [3, 5],\n",
    "    \"learning_rate\": [0.02, 0.1],\n",
    "    \"n_estimators\": [100, 300],\n",
    "}\n",
    "# Instantiate XGBRegressor\n",
    "xgb = XGBRegressor(objective=\"reg:squarederror\", verbosity=0, nthread=-1, seed=1)\n",
    "\n",
    "# Configure Grid Search\n",
    "grid_search = GridSearchCV(xgb, param_grid=params_grid, scoring='neg_root_mean_squared_error', n_jobs=-1, cv=5, verbose=0)\n",
    "\n",
    "# Fit the grid search to the training data\n",
    "grid_search.fit(trainX_onehot, trainy)\n",
    "\n",
    "# Print the best parameters\n",
    "print(\"Best grid search hyperparameters: \", grid_search.best_params_)\n",
    "\n",
    "# Create XGB using grid search's best found hyperparameters.\n",
    "best_xgb = XGBRegressor(**grid_search.best_params_, objective=\"reg:squarederror\", verbosity=0, nthread=-1, seed=1)\n"
   ]
  },
  {
   "cell_type": "markdown",
   "metadata": {
    "id": "eW9rO2Sr-HRl"
   },
   "source": [
    "## Train the Model and Make Predictions:"
   ]
  },
  {
   "cell_type": "code",
   "execution_count": 24,
   "metadata": {},
   "outputs": [
    {
     "data": {
      "text/html": [
       "<style>#sk-container-id-3 {color: black;background-color: white;}#sk-container-id-3 pre{padding: 0;}#sk-container-id-3 div.sk-toggleable {background-color: white;}#sk-container-id-3 label.sk-toggleable__label {cursor: pointer;display: block;width: 100%;margin-bottom: 0;padding: 0.3em;box-sizing: border-box;text-align: center;}#sk-container-id-3 label.sk-toggleable__label-arrow:before {content: \"▸\";float: left;margin-right: 0.25em;color: #696969;}#sk-container-id-3 label.sk-toggleable__label-arrow:hover:before {color: black;}#sk-container-id-3 div.sk-estimator:hover label.sk-toggleable__label-arrow:before {color: black;}#sk-container-id-3 div.sk-toggleable__content {max-height: 0;max-width: 0;overflow: hidden;text-align: left;background-color: #f0f8ff;}#sk-container-id-3 div.sk-toggleable__content pre {margin: 0.2em;color: black;border-radius: 0.25em;background-color: #f0f8ff;}#sk-container-id-3 input.sk-toggleable__control:checked~div.sk-toggleable__content {max-height: 200px;max-width: 100%;overflow: auto;}#sk-container-id-3 input.sk-toggleable__control:checked~label.sk-toggleable__label-arrow:before {content: \"▾\";}#sk-container-id-3 div.sk-estimator input.sk-toggleable__control:checked~label.sk-toggleable__label {background-color: #d4ebff;}#sk-container-id-3 div.sk-label input.sk-toggleable__control:checked~label.sk-toggleable__label {background-color: #d4ebff;}#sk-container-id-3 input.sk-hidden--visually {border: 0;clip: rect(1px 1px 1px 1px);clip: rect(1px, 1px, 1px, 1px);height: 1px;margin: -1px;overflow: hidden;padding: 0;position: absolute;width: 1px;}#sk-container-id-3 div.sk-estimator {font-family: monospace;background-color: #f0f8ff;border: 1px dotted black;border-radius: 0.25em;box-sizing: border-box;margin-bottom: 0.5em;}#sk-container-id-3 div.sk-estimator:hover {background-color: #d4ebff;}#sk-container-id-3 div.sk-parallel-item::after {content: \"\";width: 100%;border-bottom: 1px solid gray;flex-grow: 1;}#sk-container-id-3 div.sk-label:hover label.sk-toggleable__label {background-color: #d4ebff;}#sk-container-id-3 div.sk-serial::before {content: \"\";position: absolute;border-left: 1px solid gray;box-sizing: border-box;top: 0;bottom: 0;left: 50%;z-index: 0;}#sk-container-id-3 div.sk-serial {display: flex;flex-direction: column;align-items: center;background-color: white;padding-right: 0.2em;padding-left: 0.2em;position: relative;}#sk-container-id-3 div.sk-item {position: relative;z-index: 1;}#sk-container-id-3 div.sk-parallel {display: flex;align-items: stretch;justify-content: center;background-color: white;position: relative;}#sk-container-id-3 div.sk-item::before, #sk-container-id-3 div.sk-parallel-item::before {content: \"\";position: absolute;border-left: 1px solid gray;box-sizing: border-box;top: 0;bottom: 0;left: 50%;z-index: -1;}#sk-container-id-3 div.sk-parallel-item {display: flex;flex-direction: column;z-index: 1;position: relative;background-color: white;}#sk-container-id-3 div.sk-parallel-item:first-child::after {align-self: flex-end;width: 50%;}#sk-container-id-3 div.sk-parallel-item:last-child::after {align-self: flex-start;width: 50%;}#sk-container-id-3 div.sk-parallel-item:only-child::after {width: 0;}#sk-container-id-3 div.sk-dashed-wrapped {border: 1px dashed gray;margin: 0 0.4em 0.5em 0.4em;box-sizing: border-box;padding-bottom: 0.4em;background-color: white;}#sk-container-id-3 div.sk-label label {font-family: monospace;font-weight: bold;display: inline-block;line-height: 1.2em;}#sk-container-id-3 div.sk-label-container {text-align: center;}#sk-container-id-3 div.sk-container {/* jupyter's `normalize.less` sets `[hidden] { display: none; }` but bootstrap.min.css set `[hidden] { display: none !important; }` so we also need the `!important` here to be able to override the default hidden behavior on the sphinx rendered scikit-learn.org. See: https://github.com/scikit-learn/scikit-learn/issues/21755 */display: inline-block !important;position: relative;}#sk-container-id-3 div.sk-text-repr-fallback {display: none;}</style><div id=\"sk-container-id-3\" class=\"sk-top-container\"><div class=\"sk-text-repr-fallback\"><pre>XGBRegressor(base_score=None, booster=None, callbacks=None,\n",
       "             colsample_bylevel=None, colsample_bynode=None,\n",
       "             colsample_bytree=1.0, early_stopping_rounds=None,\n",
       "             enable_categorical=False, eval_metric=None, feature_types=None,\n",
       "             gamma=0.5, gpu_id=None, grow_policy=None, importance_type=None,\n",
       "             interaction_constraints=None, learning_rate=0.1, max_bin=None,\n",
       "             max_cat_threshold=None, max_cat_to_onehot=None,\n",
       "             max_delta_step=None, max_depth=5, max_leaves=None,\n",
       "             min_child_weight=1, missing=nan, monotone_constraints=None,\n",
       "             n_estimators=300, n_jobs=None, nthread=-1, num_parallel_tree=None,\n",
       "             predictor=None, ...)</pre><b>In a Jupyter environment, please rerun this cell to show the HTML representation or trust the notebook. <br />On GitHub, the HTML representation is unable to render, please try loading this page with nbviewer.org.</b></div><div class=\"sk-container\" hidden><div class=\"sk-item\"><div class=\"sk-estimator sk-toggleable\"><input class=\"sk-toggleable__control sk-hidden--visually\" id=\"sk-estimator-id-3\" type=\"checkbox\" checked><label for=\"sk-estimator-id-3\" class=\"sk-toggleable__label sk-toggleable__label-arrow\">XGBRegressor</label><div class=\"sk-toggleable__content\"><pre>XGBRegressor(base_score=None, booster=None, callbacks=None,\n",
       "             colsample_bylevel=None, colsample_bynode=None,\n",
       "             colsample_bytree=1.0, early_stopping_rounds=None,\n",
       "             enable_categorical=False, eval_metric=None, feature_types=None,\n",
       "             gamma=0.5, gpu_id=None, grow_policy=None, importance_type=None,\n",
       "             interaction_constraints=None, learning_rate=0.1, max_bin=None,\n",
       "             max_cat_threshold=None, max_cat_to_onehot=None,\n",
       "             max_delta_step=None, max_depth=5, max_leaves=None,\n",
       "             min_child_weight=1, missing=nan, monotone_constraints=None,\n",
       "             n_estimators=300, n_jobs=None, nthread=-1, num_parallel_tree=None,\n",
       "             predictor=None, ...)</pre></div></div></div></div></div>"
      ],
      "text/plain": [
       "XGBRegressor(base_score=None, booster=None, callbacks=None,\n",
       "             colsample_bylevel=None, colsample_bynode=None,\n",
       "             colsample_bytree=1.0, early_stopping_rounds=None,\n",
       "             enable_categorical=False, eval_metric=None, feature_types=None,\n",
       "             gamma=0.5, gpu_id=None, grow_policy=None, importance_type=None,\n",
       "             interaction_constraints=None, learning_rate=0.1, max_bin=None,\n",
       "             max_cat_threshold=None, max_cat_to_onehot=None,\n",
       "             max_delta_step=None, max_depth=5, max_leaves=None,\n",
       "             min_child_weight=1, missing=nan, monotone_constraints=None,\n",
       "             n_estimators=300, n_jobs=None, nthread=-1, num_parallel_tree=None,\n",
       "             predictor=None, ...)"
      ]
     },
     "execution_count": 24,
     "metadata": {},
     "output_type": "execute_result"
    }
   ],
   "source": [
    "# Fit the best model to the training data\n",
    "best_xgb.fit(trainX_onehot, trainy)"
   ]
  },
  {
   "cell_type": "markdown",
   "metadata": {},
   "source": [
    "### Predict on training and test data"
   ]
  },
  {
   "cell_type": "code",
   "execution_count": 25,
   "metadata": {
    "id": "_waelIRE-HYX"
   },
   "outputs": [],
   "source": [
    "\n",
    "# Predict on training and test data\n",
    "trainPreds = best_xgb.predict(trainX_onehot)\n",
    "testPreds = best_xgb.predict(testX_onehot)\n"
   ]
  },
  {
   "cell_type": "markdown",
   "metadata": {
    "id": "djLTElPbCqW2"
   },
   "source": [
    "## Evaluate the Model:"
   ]
  },
  {
   "cell_type": "code",
   "execution_count": 26,
   "metadata": {
    "id": "W2C3O7ZYCqm8"
   },
   "outputs": [
    {
     "name": "stdout",
     "output_type": "stream",
     "text": [
      "\n",
      "Train RMSE: 12.268880\n",
      "Test RMSE: 13.606344\n",
      "\n",
      "Train R-squared: 0.948726\n",
      "Test R-squared: 0.935577\n"
     ]
    }
   ],
   "source": [
    "# Print the results\n",
    "print(\"\\nTrain RMSE: %f\" % (np.sqrt(mean_squared_error(trainy, trainPreds))))\n",
    "print(\"Test RMSE: %f\" % (np.sqrt(mean_squared_error(testy, testPreds))))\n",
    "print(\"\\nTrain R-squared: %f\" % (r2_score(trainy, trainPreds)))\n",
    "print(\"Test R-squared: %f\" % (r2_score(testy, testPreds)))\n"
   ]
  },
  {
   "cell_type": "code",
   "execution_count": 27,
   "metadata": {},
   "outputs": [
    {
     "data": {
      "text/plain": [
       "['best_xgb.predict.joblib']"
      ]
     },
     "execution_count": 27,
     "metadata": {},
     "output_type": "execute_result"
    }
   ],
   "source": [
    "# Save the best trained XGBoost model\n",
    "dump(best_xgb, 'best_xgb.predict.joblib')"
   ]
  },
  {
   "cell_type": "code",
   "execution_count": 77,
   "metadata": {},
   "outputs": [],
   "source": [
    "def predict(input_data, features):\n",
    "    # Defining the features\n",
    "    ctsFeatures = [\"Engine Capacity\", \"Engine Power (PS)\"]\n",
    "    cateFeatures = [\"Manufacturer\", \"Transmission\", \"Fuel Type\", \"Powertrain\", \"Year\"]\n",
    "    features = ctsFeatures + cateFeatures\n",
    "    \n",
    "    # Prepare input data for prediction\n",
    "    input_df_empty = pd.DataFrame([], columns=X_onehot.columns)\n",
    "    input_df = pd.DataFrame([input_data], columns=features)\n",
    "    input_df[ctsFeatures] = input_df[ctsFeatures].apply(pd.to_numeric)\n",
    "    input_encoded = pd.get_dummies(input_df, columns=cateFeatures)\n",
    "\n",
    "    for col in input_encoded.columns:\n",
    "        input_df_empty[col] = input_encoded[col]\n",
    "\n",
    "    input_df_final = input_df_empty.fillna(0)\n",
    "    \n",
    "    # Scale the input data\n",
    "    input_scaled = scaler.transform(input_df_final)\n",
    "\n",
    "    # Make predictions\n",
    "    predictions = best_xgb.predict\n",
    "\n",
    "    return predictions\n"
   ]
  },
  {
   "cell_type": "code",
   "execution_count": 78,
   "metadata": {},
   "outputs": [
    {
     "ename": "NameError",
     "evalue": "name 'input_data' is not defined",
     "output_type": "error",
     "traceback": [
      "\u001b[1;31m---------------------------------------------------------------------------\u001b[0m",
      "\u001b[1;31mNameError\u001b[0m                                 Traceback (most recent call last)",
      "Cell \u001b[1;32mIn[78], line 1\u001b[0m\n\u001b[1;32m----> 1\u001b[0m predict(\u001b[43minput_data\u001b[49m, features)\n",
      "\u001b[1;31mNameError\u001b[0m: name 'input_data' is not defined"
     ]
    }
   ],
   "source": [
    "predict(input_data, features)"
   ]
  },
  {
   "cell_type": "code",
   "execution_count": 198,
   "metadata": {
    "scrolled": false
   },
   "outputs": [
    {
     "data": {
      "text/html": [
       "<div>\n",
       "<style scoped>\n",
       "    .dataframe tbody tr th:only-of-type {\n",
       "        vertical-align: middle;\n",
       "    }\n",
       "\n",
       "    .dataframe tbody tr th {\n",
       "        vertical-align: top;\n",
       "    }\n",
       "\n",
       "    .dataframe thead th {\n",
       "        text-align: right;\n",
       "    }\n",
       "</style>\n",
       "<table border=\"1\" class=\"dataframe\">\n",
       "  <thead>\n",
       "    <tr style=\"text-align: right;\">\n",
       "      <th></th>\n",
       "      <th>Engine Capacity</th>\n",
       "      <th>Engine Power (PS)</th>\n",
       "      <th>Manufacturer_ABARTH</th>\n",
       "      <th>Manufacturer_ALFA ROMEO</th>\n",
       "      <th>Manufacturer_ALPINE</th>\n",
       "      <th>Manufacturer_ASTON MARTIN LAGONDA</th>\n",
       "      <th>Manufacturer_BENTLEY MOTORS</th>\n",
       "      <th>Manufacturer_BMW</th>\n",
       "      <th>Manufacturer_CADILLAC</th>\n",
       "      <th>Manufacturer_CHEVROLET</th>\n",
       "      <th>...</th>\n",
       "      <th>Powertrain_Hybrid Electric Vehicle (HEV)</th>\n",
       "      <th>Powertrain_Internal Combustion Engine (ICE)</th>\n",
       "      <th>Powertrain_Micro-hybrid</th>\n",
       "      <th>Powertrain_Mild Hybrid Electric Vehicle (MHEV)</th>\n",
       "      <th>Powertrain_Plug-in Hybrid Electric Vehicle (PHEV)</th>\n",
       "      <th>Year_2019</th>\n",
       "      <th>Year_2020</th>\n",
       "      <th>Year_2021</th>\n",
       "      <th>Year_2022</th>\n",
       "      <th>Year_2023</th>\n",
       "    </tr>\n",
       "  </thead>\n",
       "  <tbody>\n",
       "    <tr>\n",
       "      <th>14810</th>\n",
       "      <td>1498</td>\n",
       "      <td>150.0</td>\n",
       "      <td>0</td>\n",
       "      <td>0</td>\n",
       "      <td>0</td>\n",
       "      <td>0</td>\n",
       "      <td>0</td>\n",
       "      <td>0</td>\n",
       "      <td>0</td>\n",
       "      <td>0</td>\n",
       "      <td>...</td>\n",
       "      <td>1</td>\n",
       "      <td>0</td>\n",
       "      <td>0</td>\n",
       "      <td>0</td>\n",
       "      <td>0</td>\n",
       "      <td>0</td>\n",
       "      <td>0</td>\n",
       "      <td>1</td>\n",
       "      <td>0</td>\n",
       "      <td>0</td>\n",
       "    </tr>\n",
       "    <tr>\n",
       "      <th>18941</th>\n",
       "      <td>2996</td>\n",
       "      <td>367.0</td>\n",
       "      <td>0</td>\n",
       "      <td>0</td>\n",
       "      <td>0</td>\n",
       "      <td>0</td>\n",
       "      <td>0</td>\n",
       "      <td>0</td>\n",
       "      <td>0</td>\n",
       "      <td>0</td>\n",
       "      <td>...</td>\n",
       "      <td>0</td>\n",
       "      <td>1</td>\n",
       "      <td>0</td>\n",
       "      <td>0</td>\n",
       "      <td>0</td>\n",
       "      <td>0</td>\n",
       "      <td>1</td>\n",
       "      <td>0</td>\n",
       "      <td>0</td>\n",
       "      <td>0</td>\n",
       "    </tr>\n",
       "    <tr>\n",
       "      <th>15031</th>\n",
       "      <td>1798</td>\n",
       "      <td>112.0</td>\n",
       "      <td>0</td>\n",
       "      <td>0</td>\n",
       "      <td>0</td>\n",
       "      <td>0</td>\n",
       "      <td>0</td>\n",
       "      <td>0</td>\n",
       "      <td>0</td>\n",
       "      <td>0</td>\n",
       "      <td>...</td>\n",
       "      <td>1</td>\n",
       "      <td>0</td>\n",
       "      <td>0</td>\n",
       "      <td>0</td>\n",
       "      <td>0</td>\n",
       "      <td>0</td>\n",
       "      <td>0</td>\n",
       "      <td>1</td>\n",
       "      <td>0</td>\n",
       "      <td>0</td>\n",
       "    </tr>\n",
       "    <tr>\n",
       "      <th>25225</th>\n",
       "      <td>1969</td>\n",
       "      <td>190.0</td>\n",
       "      <td>0</td>\n",
       "      <td>0</td>\n",
       "      <td>0</td>\n",
       "      <td>0</td>\n",
       "      <td>0</td>\n",
       "      <td>0</td>\n",
       "      <td>0</td>\n",
       "      <td>0</td>\n",
       "      <td>...</td>\n",
       "      <td>0</td>\n",
       "      <td>1</td>\n",
       "      <td>0</td>\n",
       "      <td>0</td>\n",
       "      <td>0</td>\n",
       "      <td>1</td>\n",
       "      <td>0</td>\n",
       "      <td>0</td>\n",
       "      <td>0</td>\n",
       "      <td>0</td>\n",
       "    </tr>\n",
       "    <tr>\n",
       "      <th>21223</th>\n",
       "      <td>1499</td>\n",
       "      <td>125.0</td>\n",
       "      <td>0</td>\n",
       "      <td>0</td>\n",
       "      <td>0</td>\n",
       "      <td>0</td>\n",
       "      <td>0</td>\n",
       "      <td>0</td>\n",
       "      <td>0</td>\n",
       "      <td>0</td>\n",
       "      <td>...</td>\n",
       "      <td>0</td>\n",
       "      <td>1</td>\n",
       "      <td>0</td>\n",
       "      <td>0</td>\n",
       "      <td>0</td>\n",
       "      <td>1</td>\n",
       "      <td>0</td>\n",
       "      <td>0</td>\n",
       "      <td>0</td>\n",
       "      <td>0</td>\n",
       "    </tr>\n",
       "    <tr>\n",
       "      <th>...</th>\n",
       "      <td>...</td>\n",
       "      <td>...</td>\n",
       "      <td>...</td>\n",
       "      <td>...</td>\n",
       "      <td>...</td>\n",
       "      <td>...</td>\n",
       "      <td>...</td>\n",
       "      <td>...</td>\n",
       "      <td>...</td>\n",
       "      <td>...</td>\n",
       "      <td>...</td>\n",
       "      <td>...</td>\n",
       "      <td>...</td>\n",
       "      <td>...</td>\n",
       "      <td>...</td>\n",
       "      <td>...</td>\n",
       "      <td>...</td>\n",
       "      <td>...</td>\n",
       "      <td>...</td>\n",
       "      <td>...</td>\n",
       "      <td>...</td>\n",
       "    </tr>\n",
       "    <tr>\n",
       "      <th>9956</th>\n",
       "      <td>1461</td>\n",
       "      <td>95.0</td>\n",
       "      <td>0</td>\n",
       "      <td>0</td>\n",
       "      <td>0</td>\n",
       "      <td>0</td>\n",
       "      <td>0</td>\n",
       "      <td>0</td>\n",
       "      <td>0</td>\n",
       "      <td>0</td>\n",
       "      <td>...</td>\n",
       "      <td>0</td>\n",
       "      <td>1</td>\n",
       "      <td>0</td>\n",
       "      <td>0</td>\n",
       "      <td>0</td>\n",
       "      <td>0</td>\n",
       "      <td>0</td>\n",
       "      <td>1</td>\n",
       "      <td>0</td>\n",
       "      <td>0</td>\n",
       "    </tr>\n",
       "    <tr>\n",
       "      <th>702</th>\n",
       "      <td>6449</td>\n",
       "      <td>785.0</td>\n",
       "      <td>0</td>\n",
       "      <td>0</td>\n",
       "      <td>0</td>\n",
       "      <td>0</td>\n",
       "      <td>0</td>\n",
       "      <td>0</td>\n",
       "      <td>0</td>\n",
       "      <td>0</td>\n",
       "      <td>...</td>\n",
       "      <td>0</td>\n",
       "      <td>1</td>\n",
       "      <td>0</td>\n",
       "      <td>0</td>\n",
       "      <td>0</td>\n",
       "      <td>0</td>\n",
       "      <td>0</td>\n",
       "      <td>0</td>\n",
       "      <td>1</td>\n",
       "      <td>0</td>\n",
       "    </tr>\n",
       "    <tr>\n",
       "      <th>17538</th>\n",
       "      <td>1598</td>\n",
       "      <td>136.0</td>\n",
       "      <td>0</td>\n",
       "      <td>0</td>\n",
       "      <td>0</td>\n",
       "      <td>0</td>\n",
       "      <td>0</td>\n",
       "      <td>0</td>\n",
       "      <td>0</td>\n",
       "      <td>0</td>\n",
       "      <td>...</td>\n",
       "      <td>1</td>\n",
       "      <td>0</td>\n",
       "      <td>0</td>\n",
       "      <td>0</td>\n",
       "      <td>0</td>\n",
       "      <td>0</td>\n",
       "      <td>1</td>\n",
       "      <td>0</td>\n",
       "      <td>0</td>\n",
       "      <td>0</td>\n",
       "    </tr>\n",
       "    <tr>\n",
       "      <th>17217</th>\n",
       "      <td>1498</td>\n",
       "      <td>173.0</td>\n",
       "      <td>0</td>\n",
       "      <td>0</td>\n",
       "      <td>0</td>\n",
       "      <td>0</td>\n",
       "      <td>0</td>\n",
       "      <td>0</td>\n",
       "      <td>0</td>\n",
       "      <td>0</td>\n",
       "      <td>...</td>\n",
       "      <td>0</td>\n",
       "      <td>1</td>\n",
       "      <td>0</td>\n",
       "      <td>0</td>\n",
       "      <td>0</td>\n",
       "      <td>0</td>\n",
       "      <td>1</td>\n",
       "      <td>0</td>\n",
       "      <td>0</td>\n",
       "      <td>0</td>\n",
       "    </tr>\n",
       "    <tr>\n",
       "      <th>4426</th>\n",
       "      <td>1997</td>\n",
       "      <td>150.0</td>\n",
       "      <td>0</td>\n",
       "      <td>0</td>\n",
       "      <td>0</td>\n",
       "      <td>0</td>\n",
       "      <td>0</td>\n",
       "      <td>0</td>\n",
       "      <td>0</td>\n",
       "      <td>0</td>\n",
       "      <td>...</td>\n",
       "      <td>0</td>\n",
       "      <td>1</td>\n",
       "      <td>0</td>\n",
       "      <td>0</td>\n",
       "      <td>0</td>\n",
       "      <td>0</td>\n",
       "      <td>0</td>\n",
       "      <td>0</td>\n",
       "      <td>1</td>\n",
       "      <td>0</td>\n",
       "    </tr>\n",
       "  </tbody>\n",
       "</table>\n",
       "<p>5252 rows × 119 columns</p>\n",
       "</div>"
      ],
      "text/plain": [
       "       Engine Capacity  Engine Power (PS)  Manufacturer_ABARTH  \\\n",
       "14810             1498              150.0                    0   \n",
       "18941             2996              367.0                    0   \n",
       "15031             1798              112.0                    0   \n",
       "25225             1969              190.0                    0   \n",
       "21223             1499              125.0                    0   \n",
       "...                ...                ...                  ...   \n",
       "9956              1461               95.0                    0   \n",
       "702               6449              785.0                    0   \n",
       "17538             1598              136.0                    0   \n",
       "17217             1498              173.0                    0   \n",
       "4426              1997              150.0                    0   \n",
       "\n",
       "       Manufacturer_ALFA ROMEO  Manufacturer_ALPINE  \\\n",
       "14810                        0                    0   \n",
       "18941                        0                    0   \n",
       "15031                        0                    0   \n",
       "25225                        0                    0   \n",
       "21223                        0                    0   \n",
       "...                        ...                  ...   \n",
       "9956                         0                    0   \n",
       "702                          0                    0   \n",
       "17538                        0                    0   \n",
       "17217                        0                    0   \n",
       "4426                         0                    0   \n",
       "\n",
       "       Manufacturer_ASTON MARTIN LAGONDA  Manufacturer_BENTLEY MOTORS  \\\n",
       "14810                                  0                            0   \n",
       "18941                                  0                            0   \n",
       "15031                                  0                            0   \n",
       "25225                                  0                            0   \n",
       "21223                                  0                            0   \n",
       "...                                  ...                          ...   \n",
       "9956                                   0                            0   \n",
       "702                                    0                            0   \n",
       "17538                                  0                            0   \n",
       "17217                                  0                            0   \n",
       "4426                                   0                            0   \n",
       "\n",
       "       Manufacturer_BMW  Manufacturer_CADILLAC  Manufacturer_CHEVROLET  ...  \\\n",
       "14810                 0                      0                       0  ...   \n",
       "18941                 0                      0                       0  ...   \n",
       "15031                 0                      0                       0  ...   \n",
       "25225                 0                      0                       0  ...   \n",
       "21223                 0                      0                       0  ...   \n",
       "...                 ...                    ...                     ...  ...   \n",
       "9956                  0                      0                       0  ...   \n",
       "702                   0                      0                       0  ...   \n",
       "17538                 0                      0                       0  ...   \n",
       "17217                 0                      0                       0  ...   \n",
       "4426                  0                      0                       0  ...   \n",
       "\n",
       "       Powertrain_Hybrid Electric Vehicle (HEV)  \\\n",
       "14810                                         1   \n",
       "18941                                         0   \n",
       "15031                                         1   \n",
       "25225                                         0   \n",
       "21223                                         0   \n",
       "...                                         ...   \n",
       "9956                                          0   \n",
       "702                                           0   \n",
       "17538                                         1   \n",
       "17217                                         0   \n",
       "4426                                          0   \n",
       "\n",
       "       Powertrain_Internal Combustion Engine (ICE)  Powertrain_Micro-hybrid  \\\n",
       "14810                                            0                        0   \n",
       "18941                                            1                        0   \n",
       "15031                                            0                        0   \n",
       "25225                                            1                        0   \n",
       "21223                                            1                        0   \n",
       "...                                            ...                      ...   \n",
       "9956                                             1                        0   \n",
       "702                                              1                        0   \n",
       "17538                                            0                        0   \n",
       "17217                                            1                        0   \n",
       "4426                                             1                        0   \n",
       "\n",
       "       Powertrain_Mild Hybrid Electric Vehicle (MHEV)  \\\n",
       "14810                                               0   \n",
       "18941                                               0   \n",
       "15031                                               0   \n",
       "25225                                               0   \n",
       "21223                                               0   \n",
       "...                                               ...   \n",
       "9956                                                0   \n",
       "702                                                 0   \n",
       "17538                                               0   \n",
       "17217                                               0   \n",
       "4426                                                0   \n",
       "\n",
       "       Powertrain_Plug-in Hybrid Electric Vehicle (PHEV)  Year_2019  \\\n",
       "14810                                                  0          0   \n",
       "18941                                                  0          0   \n",
       "15031                                                  0          0   \n",
       "25225                                                  0          1   \n",
       "21223                                                  0          1   \n",
       "...                                                  ...        ...   \n",
       "9956                                                   0          0   \n",
       "702                                                    0          0   \n",
       "17538                                                  0          0   \n",
       "17217                                                  0          0   \n",
       "4426                                                   0          0   \n",
       "\n",
       "       Year_2020  Year_2021  Year_2022  Year_2023  \n",
       "14810          0          1          0          0  \n",
       "18941          1          0          0          0  \n",
       "15031          0          1          0          0  \n",
       "25225          0          0          0          0  \n",
       "21223          0          0          0          0  \n",
       "...          ...        ...        ...        ...  \n",
       "9956           0          1          0          0  \n",
       "702            0          0          1          0  \n",
       "17538          1          0          0          0  \n",
       "17217          1          0          0          0  \n",
       "4426           0          0          1          0  \n",
       "\n",
       "[5252 rows x 119 columns]"
      ]
     },
     "execution_count": 198,
     "metadata": {},
     "output_type": "execute_result"
    }
   ],
   "source": [
    "testX_onehot"
   ]
  },
  {
   "cell_type": "code",
   "execution_count": null,
   "metadata": {},
   "outputs": [],
   "source": []
  },
  {
   "cell_type": "code",
   "execution_count": null,
   "metadata": {},
   "outputs": [],
   "source": []
  },
  {
   "cell_type": "markdown",
   "metadata": {},
   "source": [
    "### Plotting predicted VS Actual "
   ]
  },
  {
   "cell_type": "code",
   "execution_count": 28,
   "metadata": {},
   "outputs": [
    {
     "name": "stderr",
     "output_type": "stream",
     "text": [
      "C:\\Users\\study\\AppData\\Local\\Temp\\ipykernel_33940\\343371279.py:5: UserWarning: color is redundantly defined by the 'color' keyword argument and the fmt string \"--k\" (-> color='k'). The keyword argument will take precedence.\n",
      "  plt.plot([actual.min(), actual.max()], [actual.min(), actual.max()], '--k', color='red')\n"
     ]
    },
    {
     "data": {
      "image/png": "[encoded data removed]",
      "text/plain": [
       "<Figure size 640x480 with 1 Axes>"
      ]
     },
     "metadata": {},
     "output_type": "display_data"
    },
    {
     "data": {
      "image/png": "[encoded data removed]",
      "text/plain": [
       "<Figure size 640x480 with 1 Axes>"
      ]
     },
     "metadata": {},
     "output_type": "display_data"
    }
   ],
   "source": [
    "import matplotlib.pyplot as plt\n",
    "\n",
    "def plot_predicted_vs_actual(actual, predicted, title):\n",
    "    plt.scatter(actual, predicted, alpha=0.5)\n",
    "    plt.plot([actual.min(), actual.max()], [actual.min(), actual.max()], '--k', color='red')\n",
    "    plt.xlabel('Actual')\n",
    "    plt.ylabel('Predicted')\n",
    "    plt.title(title)\n",
    "    plt.show()\n",
    "\n",
    "# Plot for training data\n",
    "plot_predicted_vs_actual(trainy, trainPreds, 'Training Data: Predicted vs Actual')\n",
    "\n",
    "# Plot for test data\n",
    "plot_predicted_vs_actual(testy, testPreds, 'Test Data: Predicted vs Actual')\n"
   ]
  },
  {
   "cell_type": "markdown",
   "metadata": {},
   "source": [
    "## FEATURE IMPORTANCE FOR GRID SEARCH CROSS VALIDATION ONE HOT ENCODING"
   ]
  },
  {
   "cell_type": "code",
   "execution_count": 206,
   "metadata": {},
   "outputs": [],
   "source": [
    "import matplotlib.pyplot as plt"
   ]
  },
  {
   "cell_type": "code",
   "execution_count": 207,
   "metadata": {},
   "outputs": [],
   "source": [
    "# Get feature importance\n",
    "importance = best_xgb.feature_importances_"
   ]
  },
  {
   "cell_type": "code",
   "execution_count": 208,
   "metadata": {},
   "outputs": [],
   "source": [
    "# Sum up the importance for one-hot encoded features\n",
    "importance_dict = {}\n",
    "for i, col_name in enumerate(trainX_onehot.columns):\n",
    "    base_name = col_name.split('_')[0]\n",
    "    if base_name in cateFeatures:\n",
    "        if base_name not in importance_dict:\n",
    "            importance_dict[base_name] = 0\n",
    "        importance_dict[base_name] += importance[i]\n",
    "    else:\n",
    "        importance_dict[col_name] = importance[i]"
   ]
  },
  {
   "cell_type": "code",
   "execution_count": 209,
   "metadata": {},
   "outputs": [],
   "source": [
    "# Sort by importance\n",
    "sorted_importance = sorted(importance_dict.items(), key=lambda x: x[1], reverse=True)"
   ]
  },
  {
   "cell_type": "code",
   "execution_count": 211,
   "metadata": {},
   "outputs": [
    {
     "data": {
      "image/png": "[encoded data removed]",
      "text/plain": [
       "<Figure size 800x400 with 1 Axes>"
      ]
     },
     "metadata": {},
     "output_type": "display_data"
    }
   ],
   "source": [
    "# Plot\n",
    "plt.figure(figsize=(8,4))\n",
    "plt.bar([x[0] for x in sorted_importance], [x[1] for x in sorted_importance])\n",
    "plt.xticks(rotation=90)\n",
    "plt.ylabel('Importance')\n",
    "plt.title('Feature Importance')\n",
    "plt.show()"
   ]
  },
  {
   "cell_type": "markdown",
   "metadata": {
    "id": "UtH2Oiq3K7Hz"
   },
   "source": [
    "# KNN GRID SEARCH CROSS VALIDATION ONE HOT ENCODING"
   ]
  },
  {
   "cell_type": "markdown",
   "metadata": {
    "id": "dv9VNDWGPuNN"
   },
   "source": [
    "Import"
   ]
  },
  {
   "cell_type": "code",
   "execution_count": 35,
   "metadata": {
    "id": "6LZsr9ZaLCV9"
   },
   "outputs": [],
   "source": [
    "import pandas as pd\n",
    "from sklearn.model_selection import train_test_split, GridSearchCV\n",
    "from sklearn.metrics import mean_squared_error, r2_score\n",
    "from sklearn.neighbors import KNeighborsRegressor\n",
    "from sklearn.preprocessing import StandardScaler\n",
    "import numpy as np"
   ]
  },
  {
   "cell_type": "markdown",
   "metadata": {
    "id": "YyFw9GmEP-r8"
   },
   "source": []
  },
  {
   "cell_type": "code",
   "execution_count": 36,
   "metadata": {
    "id": "Pfg46xDsLCho"
   },
   "outputs": [],
   "source": [
    "# Read the CSV file using pandas\n",
    "govData = pd.read_csv('UK_gov_cleaned_data.csv', encoding=\"ISO-8859-1\")"
   ]
  },
  {
   "cell_type": "markdown",
   "metadata": {
    "id": "KyeBmcDLQEhy"
   },
   "source": [
    "## Define features and target"
   ]
  },
  {
   "cell_type": "code",
   "execution_count": 37,
   "metadata": {
    "id": "w7SeRMs2K6gj"
   },
   "outputs": [],
   "source": [
    "ctsFeatures = [\"Engine Capacity\", \"Engine Power (PS)\"]\n",
    "cateFeatures = [\"Manufacturer\", \"Transmission\", \"Fuel Type\", \"Powertrain\",\"Year\"]\n",
    "features = ctsFeatures + cateFeatures\n",
    "target = \"WLTP CO2\""
   ]
  },
  {
   "cell_type": "markdown",
   "metadata": {
    "id": "omQeDT41QH5z"
   },
   "source": [
    "## Encoding"
   ]
  },
  {
   "cell_type": "code",
   "execution_count": 32,
   "metadata": {
    "id": "3ZJtqOh5QMjV"
   },
   "outputs": [],
   "source": [
    "X_onehot = govData[features].copy()\n",
    "y = govData[target]\n",
    "X_onehot = pd.get_dummies(X_onehot, columns=cateFeatures)"
   ]
  },
  {
   "cell_type": "markdown",
   "metadata": {
    "id": "VEBXgeT2XC_3"
   },
   "source": [
    "## Train-test split and feature scaling"
   ]
  },
  {
   "cell_type": "code",
   "execution_count": 33,
   "metadata": {
    "id": "mmDH8qTFXDN8"
   },
   "outputs": [],
   "source": [
    "testSize = 0.2\n",
    "trainX_onehot, testX_onehot, trainy, testy = train_test_split(X_onehot, y, test_size=testSize, random_state=1)\n",
    "scaler = StandardScaler()\n",
    "trainX_onehot = scaler.fit_transform(trainX_onehot)\n",
    "testX_onehot = scaler.transform(testX_onehot)"
   ]
  },
  {
   "cell_type": "markdown",
   "metadata": {
    "id": "_qfD-gymXJga"
   },
   "source": [
    "## Hyperparameter tuning using Grid Search"
   ]
  },
  {
   "cell_type": "code",
   "execution_count": 34,
   "metadata": {
    "id": "6nmsCTU6XJov"
   },
   "outputs": [
    {
     "name": "stdout",
     "output_type": "stream",
     "text": [
      "Fitting 5 folds for each of 360 candidates, totalling 1800 fits\n",
      "Best grid search hyperparameters:  {'leaf_size': 1, 'metric': 'manhattan', 'n_neighbors': 16, 'weights': 'distance'}\n"
     ]
    }
   ],
   "source": [
    "params_grid = {\n",
    "    \"n_neighbors\": [2, 4, 8, 12, 14, 16],\n",
    "    \"weights\": [\"uniform\", \"distance\"],\n",
    "    \"metric\": [\"euclidean\", \"manhattan\", \"minkowski\"],\n",
    "    \"leaf_size\": list(range(1, 11))\n",
    "}\n",
    "\n",
    "knn = KNeighborsRegressor()\n",
    "grid_search = GridSearchCV(knn, param_grid=params_grid, scoring='neg_root_mean_squared_error', n_jobs=-1, cv=5, verbose=3)\n",
    "grid_search.fit(trainX_onehot, trainy)\n",
    "print(\"Best grid search hyperparameters: \", grid_search.best_params_)\n"
   ]
  },
  {
   "cell_type": "markdown",
   "metadata": {
    "id": "Z93GMEYWXOPg"
   },
   "source": [
    "## Model Training with best hyperparameters"
   ]
  },
  {
   "cell_type": "code",
   "execution_count": 22,
   "metadata": {
    "id": "lzSOvKyAXOY9"
   },
   "outputs": [
    {
     "data": {
      "text/html": [
       "<style>#sk-container-id-2 {color: black;background-color: white;}#sk-container-id-2 pre{padding: 0;}#sk-container-id-2 div.sk-toggleable {background-color: white;}#sk-container-id-2 label.sk-toggleable__label {cursor: pointer;display: block;width: 100%;margin-bottom: 0;padding: 0.3em;box-sizing: border-box;text-align: center;}#sk-container-id-2 label.sk-toggleable__label-arrow:before {content: \"▸\";float: left;margin-right: 0.25em;color: #696969;}#sk-container-id-2 label.sk-toggleable__label-arrow:hover:before {color: black;}#sk-container-id-2 div.sk-estimator:hover label.sk-toggleable__label-arrow:before {color: black;}#sk-container-id-2 div.sk-toggleable__content {max-height: 0;max-width: 0;overflow: hidden;text-align: left;background-color: #f0f8ff;}#sk-container-id-2 div.sk-toggleable__content pre {margin: 0.2em;color: black;border-radius: 0.25em;background-color: #f0f8ff;}#sk-container-id-2 input.sk-toggleable__control:checked~div.sk-toggleable__content {max-height: 200px;max-width: 100%;overflow: auto;}#sk-container-id-2 input.sk-toggleable__control:checked~label.sk-toggleable__label-arrow:before {content: \"▾\";}#sk-container-id-2 div.sk-estimator input.sk-toggleable__control:checked~label.sk-toggleable__label {background-color: #d4ebff;}#sk-container-id-2 div.sk-label input.sk-toggleable__control:checked~label.sk-toggleable__label {background-color: #d4ebff;}#sk-container-id-2 input.sk-hidden--visually {border: 0;clip: rect(1px 1px 1px 1px);clip: rect(1px, 1px, 1px, 1px);height: 1px;margin: -1px;overflow: hidden;padding: 0;position: absolute;width: 1px;}#sk-container-id-2 div.sk-estimator {font-family: monospace;background-color: #f0f8ff;border: 1px dotted black;border-radius: 0.25em;box-sizing: border-box;margin-bottom: 0.5em;}#sk-container-id-2 div.sk-estimator:hover {background-color: #d4ebff;}#sk-container-id-2 div.sk-parallel-item::after {content: \"\";width: 100%;border-bottom: 1px solid gray;flex-grow: 1;}#sk-container-id-2 div.sk-label:hover label.sk-toggleable__label {background-color: #d4ebff;}#sk-container-id-2 div.sk-serial::before {content: \"\";position: absolute;border-left: 1px solid gray;box-sizing: border-box;top: 0;bottom: 0;left: 50%;z-index: 0;}#sk-container-id-2 div.sk-serial {display: flex;flex-direction: column;align-items: center;background-color: white;padding-right: 0.2em;padding-left: 0.2em;position: relative;}#sk-container-id-2 div.sk-item {position: relative;z-index: 1;}#sk-container-id-2 div.sk-parallel {display: flex;align-items: stretch;justify-content: center;background-color: white;position: relative;}#sk-container-id-2 div.sk-item::before, #sk-container-id-2 div.sk-parallel-item::before {content: \"\";position: absolute;border-left: 1px solid gray;box-sizing: border-box;top: 0;bottom: 0;left: 50%;z-index: -1;}#sk-container-id-2 div.sk-parallel-item {display: flex;flex-direction: column;z-index: 1;position: relative;background-color: white;}#sk-container-id-2 div.sk-parallel-item:first-child::after {align-self: flex-end;width: 50%;}#sk-container-id-2 div.sk-parallel-item:last-child::after {align-self: flex-start;width: 50%;}#sk-container-id-2 div.sk-parallel-item:only-child::after {width: 0;}#sk-container-id-2 div.sk-dashed-wrapped {border: 1px dashed gray;margin: 0 0.4em 0.5em 0.4em;box-sizing: border-box;padding-bottom: 0.4em;background-color: white;}#sk-container-id-2 div.sk-label label {font-family: monospace;font-weight: bold;display: inline-block;line-height: 1.2em;}#sk-container-id-2 div.sk-label-container {text-align: center;}#sk-container-id-2 div.sk-container {/* jupyter's `normalize.less` sets `[hidden] { display: none; }` but bootstrap.min.css set `[hidden] { display: none !important; }` so we also need the `!important` here to be able to override the default hidden behavior on the sphinx rendered scikit-learn.org. See: https://github.com/scikit-learn/scikit-learn/issues/21755 */display: inline-block !important;position: relative;}#sk-container-id-2 div.sk-text-repr-fallback {display: none;}</style><div id=\"sk-container-id-2\" class=\"sk-top-container\"><div class=\"sk-text-repr-fallback\"><pre>KNeighborsRegressor(leaf_size=1, metric=&#x27;manhattan&#x27;, n_neighbors=12,\n",
       "                    weights=&#x27;distance&#x27;)</pre><b>In a Jupyter environment, please rerun this cell to show the HTML representation or trust the notebook. <br />On GitHub, the HTML representation is unable to render, please try loading this page with nbviewer.org.</b></div><div class=\"sk-container\" hidden><div class=\"sk-item\"><div class=\"sk-estimator sk-toggleable\"><input class=\"sk-toggleable__control sk-hidden--visually\" id=\"sk-estimator-id-2\" type=\"checkbox\" checked><label for=\"sk-estimator-id-2\" class=\"sk-toggleable__label sk-toggleable__label-arrow\">KNeighborsRegressor</label><div class=\"sk-toggleable__content\"><pre>KNeighborsRegressor(leaf_size=1, metric=&#x27;manhattan&#x27;, n_neighbors=12,\n",
       "                    weights=&#x27;distance&#x27;)</pre></div></div></div></div></div>"
      ],
      "text/plain": [
       "KNeighborsRegressor(leaf_size=1, metric='manhattan', n_neighbors=12,\n",
       "                    weights='distance')"
      ]
     },
     "execution_count": 22,
     "metadata": {},
     "output_type": "execute_result"
    }
   ],
   "source": [
    "best_knn = KNeighborsRegressor(**grid_search.best_params_)\n",
    "best_knn.fit(trainX_onehot, trainy)\n"
   ]
  },
  {
   "cell_type": "markdown",
   "metadata": {
    "id": "NogXkEqzXTT3"
   },
   "source": [
    "## Prediction and Evaluation"
   ]
  },
  {
   "cell_type": "code",
   "execution_count": 23,
   "metadata": {
    "id": "o3y6ZOBVXTdL"
   },
   "outputs": [
    {
     "name": "stdout",
     "output_type": "stream",
     "text": [
      "Train RMSE: 12.119075\n",
      "Test RMSE: 14.384847\n",
      "Train Accuracy: 0.949970\n",
      "Test Accuracy: 0.927994\n"
     ]
    }
   ],
   "source": [
    "trainPreds = best_knn.predict(trainX_onehot)\n",
    "testPreds = best_knn.predict(testX_onehot)\n",
    "\n",
    "print(\"Train RMSE: %f\" % (np.sqrt(mean_squared_error(trainy, trainPreds))))\n",
    "print(\"Test RMSE: %f\" % (np.sqrt(mean_squared_error(testy, testPreds))))\n",
    "print(\"Train Accuracy: %f\" % (r2_score(trainy, trainPreds)))\n",
    "print(\"Test Accuracy: %f\" % (r2_score(testy, testPreds)))\n"
   ]
  },
  {
   "cell_type": "markdown",
   "metadata": {
    "id": "cUOBQTKuj_Wb"
   },
   "source": [
    "## SVR Support Vector Regressor GRID SEARCH CROSS VAIDATION (GSCV) ONE HOT ENCODING"
   ]
  },
  {
   "cell_type": "markdown",
   "metadata": {
    "id": "hku2Wkx1qa2t"
   },
   "source": [
    "## Import Libraries"
   ]
  },
  {
   "cell_type": "code",
   "execution_count": 38,
   "metadata": {
    "id": "Kf0M_IefXOgk"
   },
   "outputs": [],
   "source": [
    "import pandas as pd\n",
    "from sklearn.model_selection import train_test_split, GridSearchCV\n",
    "from sklearn.metrics import mean_squared_error, r2_score\n",
    "from sklearn.svm import SVR\n",
    "from sklearn.preprocessing import StandardScaler\n",
    "import numpy as np"
   ]
  },
  {
   "cell_type": "markdown",
   "metadata": {
    "id": "hqaV7e69qd-o"
   },
   "source": [
    "## loading the data set"
   ]
  },
  {
   "cell_type": "code",
   "execution_count": 39,
   "metadata": {
    "id": "ShZMVHnfXOiU"
   },
   "outputs": [],
   "source": [
    "# Read the CSV file using pandas\n",
    "govData = pd.read_csv('UK_gov_cleaned_data.csv', encoding=\"ISO-8859-1\")"
   ]
  },
  {
   "cell_type": "markdown",
   "metadata": {
    "id": "HnJNwX9ElCVw"
   },
   "source": [
    "## Define Features and Target"
   ]
  },
  {
   "cell_type": "code",
   "execution_count": 40,
   "metadata": {
    "id": "ZLxek6Mmqihe"
   },
   "outputs": [],
   "source": [
    "ctsFeatures = [\"Engine Capacity\", \"Engine Power (PS)\"]\n",
    "cateFeatures = [\"Manufacturer\", \"Transmission\", \"Fuel Type\", \"Powertrain\",\"Year\"]\n",
    "features = ctsFeatures + cateFeatures\n",
    "target = \"WLTP CO2\""
   ]
  },
  {
   "cell_type": "markdown",
   "metadata": {
    "id": "AEMHR8holCYY"
   },
   "source": [
    "## encoding"
   ]
  },
  {
   "cell_type": "code",
   "execution_count": 41,
   "metadata": {
    "id": "8CGj-o02rKrf"
   },
   "outputs": [],
   "source": [
    "# Define arrays: features (X_onehot for one-hot encoding of categorical features), and target (y).\n",
    "X_onehot = govData[features].copy()\n",
    "y = govData[target]\n",
    "\n",
    "# Encode categorical features\n",
    "X_onehot = pd.get_dummies(X_onehot, columns=cateFeatures)\n",
    "\n",
    "# Define training and testing arrays. Test sets are a hold-out to check models against after CV.\n",
    "testSize = 0.2\n",
    "trainX_onehot, testX_onehot, trainy, testy = train_test_split(X_onehot, y, test_size=testSize, random_state=1)\n",
    "\n",
    "# Feature Scaling using StandardScaler\n",
    "scaler = StandardScaler()\n",
    "trainX_onehot = scaler.fit_transform(trainX_onehot)\n",
    "testX_onehot = scaler.transform(testX_onehot)\n"
   ]
  },
  {
   "cell_type": "markdown",
   "metadata": {
    "id": "AhwOJnsnlCaw"
   },
   "source": [
    "## Hyperparameter Tuning with Grid Search"
   ]
  },
  {
   "cell_type": "code",
   "execution_count": 42,
   "metadata": {
    "id": "uR9MYgJlrR60"
   },
   "outputs": [
    {
     "name": "stdout",
     "output_type": "stream",
     "text": [
      "Fitting 5 folds for each of 48 candidates, totalling 240 fits\n",
      "Best grid search hyperparameters:  {'C': 100, 'degree': 2, 'epsilon': 0.1, 'kernel': 'rbf'}\n"
     ]
    }
   ],
   "source": [
    "# Parameters grid for SVR\n",
    "params_grid = {\n",
    "    \"kernel\": [\"linear\", \"poly\", \"rbf\", \"sigmoid\"],\n",
    "    \"C\": [1, 10, 100],\n",
    "    \"epsilon\": [0.01, 0.1],\n",
    "    \"degree\": [2, 3]  # Only considered when kernel is \"poly\"\n",
    "}\n",
    "\n",
    "# Instantiate SVR\n",
    "svr = SVR()\n",
    "\n",
    "# Configure Grid Search\n",
    "grid_search = GridSearchCV(svr, param_grid=params_grid, scoring='neg_root_mean_squared_error', n_jobs=-1, cv=5, verbose=3)\n",
    "\n",
    "# Fit the grid search\n",
    "grid_search.fit(trainX_onehot, trainy)\n",
    "\n",
    "# Print the best parameters\n",
    "print(\"Best grid search hyperparameters: \", grid_search.best_params_)\n"
   ]
  },
  {
   "cell_type": "markdown",
   "metadata": {
    "id": "oYa-lBukrWY3"
   },
   "source": [
    "## Create and Fit the Best Model"
   ]
  },
  {
   "cell_type": "code",
   "execution_count": 43,
   "metadata": {
    "id": "JkMTqpS6rVj1"
   },
   "outputs": [
    {
     "data": {
      "text/html": [
       "<style>#sk-container-id-4 {color: black;background-color: white;}#sk-container-id-4 pre{padding: 0;}#sk-container-id-4 div.sk-toggleable {background-color: white;}#sk-container-id-4 label.sk-toggleable__label {cursor: pointer;display: block;width: 100%;margin-bottom: 0;padding: 0.3em;box-sizing: border-box;text-align: center;}#sk-container-id-4 label.sk-toggleable__label-arrow:before {content: \"▸\";float: left;margin-right: 0.25em;color: #696969;}#sk-container-id-4 label.sk-toggleable__label-arrow:hover:before {color: black;}#sk-container-id-4 div.sk-estimator:hover label.sk-toggleable__label-arrow:before {color: black;}#sk-container-id-4 div.sk-toggleable__content {max-height: 0;max-width: 0;overflow: hidden;text-align: left;background-color: #f0f8ff;}#sk-container-id-4 div.sk-toggleable__content pre {margin: 0.2em;color: black;border-radius: 0.25em;background-color: #f0f8ff;}#sk-container-id-4 input.sk-toggleable__control:checked~div.sk-toggleable__content {max-height: 200px;max-width: 100%;overflow: auto;}#sk-container-id-4 input.sk-toggleable__control:checked~label.sk-toggleable__label-arrow:before {content: \"▾\";}#sk-container-id-4 div.sk-estimator input.sk-toggleable__control:checked~label.sk-toggleable__label {background-color: #d4ebff;}#sk-container-id-4 div.sk-label input.sk-toggleable__control:checked~label.sk-toggleable__label {background-color: #d4ebff;}#sk-container-id-4 input.sk-hidden--visually {border: 0;clip: rect(1px 1px 1px 1px);clip: rect(1px, 1px, 1px, 1px);height: 1px;margin: -1px;overflow: hidden;padding: 0;position: absolute;width: 1px;}#sk-container-id-4 div.sk-estimator {font-family: monospace;background-color: #f0f8ff;border: 1px dotted black;border-radius: 0.25em;box-sizing: border-box;margin-bottom: 0.5em;}#sk-container-id-4 div.sk-estimator:hover {background-color: #d4ebff;}#sk-container-id-4 div.sk-parallel-item::after {content: \"\";width: 100%;border-bottom: 1px solid gray;flex-grow: 1;}#sk-container-id-4 div.sk-label:hover label.sk-toggleable__label {background-color: #d4ebff;}#sk-container-id-4 div.sk-serial::before {content: \"\";position: absolute;border-left: 1px solid gray;box-sizing: border-box;top: 0;bottom: 0;left: 50%;z-index: 0;}#sk-container-id-4 div.sk-serial {display: flex;flex-direction: column;align-items: center;background-color: white;padding-right: 0.2em;padding-left: 0.2em;position: relative;}#sk-container-id-4 div.sk-item {position: relative;z-index: 1;}#sk-container-id-4 div.sk-parallel {display: flex;align-items: stretch;justify-content: center;background-color: white;position: relative;}#sk-container-id-4 div.sk-item::before, #sk-container-id-4 div.sk-parallel-item::before {content: \"\";position: absolute;border-left: 1px solid gray;box-sizing: border-box;top: 0;bottom: 0;left: 50%;z-index: -1;}#sk-container-id-4 div.sk-parallel-item {display: flex;flex-direction: column;z-index: 1;position: relative;background-color: white;}#sk-container-id-4 div.sk-parallel-item:first-child::after {align-self: flex-end;width: 50%;}#sk-container-id-4 div.sk-parallel-item:last-child::after {align-self: flex-start;width: 50%;}#sk-container-id-4 div.sk-parallel-item:only-child::after {width: 0;}#sk-container-id-4 div.sk-dashed-wrapped {border: 1px dashed gray;margin: 0 0.4em 0.5em 0.4em;box-sizing: border-box;padding-bottom: 0.4em;background-color: white;}#sk-container-id-4 div.sk-label label {font-family: monospace;font-weight: bold;display: inline-block;line-height: 1.2em;}#sk-container-id-4 div.sk-label-container {text-align: center;}#sk-container-id-4 div.sk-container {/* jupyter's `normalize.less` sets `[hidden] { display: none; }` but bootstrap.min.css set `[hidden] { display: none !important; }` so we also need the `!important` here to be able to override the default hidden behavior on the sphinx rendered scikit-learn.org. See: https://github.com/scikit-learn/scikit-learn/issues/21755 */display: inline-block !important;position: relative;}#sk-container-id-4 div.sk-text-repr-fallback {display: none;}</style><div id=\"sk-container-id-4\" class=\"sk-top-container\"><div class=\"sk-text-repr-fallback\"><pre>SVR(C=100, degree=2)</pre><b>In a Jupyter environment, please rerun this cell to show the HTML representation or trust the notebook. <br />On GitHub, the HTML representation is unable to render, please try loading this page with nbviewer.org.</b></div><div class=\"sk-container\" hidden><div class=\"sk-item\"><div class=\"sk-estimator sk-toggleable\"><input class=\"sk-toggleable__control sk-hidden--visually\" id=\"sk-estimator-id-4\" type=\"checkbox\" checked><label for=\"sk-estimator-id-4\" class=\"sk-toggleable__label sk-toggleable__label-arrow\">SVR</label><div class=\"sk-toggleable__content\"><pre>SVR(C=100, degree=2)</pre></div></div></div></div></div>"
      ],
      "text/plain": [
       "SVR(C=100, degree=2)"
      ]
     },
     "execution_count": 43,
     "metadata": {},
     "output_type": "execute_result"
    }
   ],
   "source": [
    "# Create SVR using grid search's best found hyperparameters.\n",
    "best_svr = SVR(**grid_search.best_params_)\n",
    "\n",
    "# Fit the best model\n",
    "best_svr.fit(trainX_onehot, trainy)"
   ]
  },
  {
   "cell_type": "markdown",
   "metadata": {
    "id": "cj96uOC9re3c"
   },
   "source": [
    "## Predict and Evaluate"
   ]
  },
  {
   "cell_type": "code",
   "execution_count": 44,
   "metadata": {
    "id": "tGMiOsu2rfHL"
   },
   "outputs": [
    {
     "name": "stdout",
     "output_type": "stream",
     "text": [
      "Train RMSE: 14.794175\n",
      "Test RMSE: 15.594156\n",
      "Train Accuracy: 0.925446\n",
      "Test Accuracy: 0.915379\n"
     ]
    }
   ],
   "source": [
    "# Predict on training and test data\n",
    "trainPreds = best_svr.predict(trainX_onehot)\n",
    "testPreds = best_svr.predict(testX_onehot)\n",
    "\n",
    "# Print the results\n",
    "print(\"Train RMSE: %f\" % (np.sqrt(mean_squared_error(trainy, trainPreds))))\n",
    "print(\"Test RMSE: %f\" % (np.sqrt(mean_squared_error(testy, testPreds))))\n",
    "print(\"Train Accuracy: %f\" % (r2_score(trainy, trainPreds)))\n",
    "print(\"Test Accuracy: %f\" % (r2_score(testy, testPreds)))\n"
   ]
  },
  {
   "cell_type": "markdown",
   "metadata": {
    "id": "ATGHZo68lCdV"
   },
   "source": [
    "# ADVANCED HYPER PARAMETER TUNING HYPEROPT BAYESIAN OPTIMISATION"
   ]
  },
  {
   "cell_type": "markdown",
   "metadata": {},
   "source": [
    "## Bayesian Optimization:\n",
    "\n",
    "Utilizes a probabilistic model to predict the objective function value for different hyperparameter settings.\n",
    "\n",
    "Explores the hyperparameter space more intelligently than random or grid search.\n",
    "\n",
    "Common libraries for this approach include Hyperopt, Spearmint, and others."
   ]
  },
  {
   "cell_type": "markdown",
   "metadata": {
    "id": "Pl2qYxYFlCgw"
   },
   "source": [
    "## XGBOOST USING HYPEROPT BAYESIAN OPTIMISATION ONE HOT ENCODING\n"
   ]
  },
  {
   "cell_type": "markdown",
   "metadata": {},
   "source": [
    "Importing neccessary libraries "
   ]
  },
  {
   "cell_type": "code",
   "execution_count": 59,
   "metadata": {
    "id": "Qusgx8uVtmKR"
   },
   "outputs": [],
   "source": [
    "import pandas as pd\n",
    "from sklearn.model_selection import train_test_split, cross_val_score\n",
    "from sklearn.metrics import mean_squared_error, r2_score\n",
    "from xgboost import XGBRegressor\n",
    "import numpy as np\n",
    "from time import time\n",
    "from hyperopt import fmin, tpe, hp\n",
    "import xgboost as xgb\n",
    "from xgboost import XGBRegressor\n",
    "import numpy as np\n",
    "from time import time\n",
    "from hyperopt import fmin, tpe, hp\n",
    "from sklearn.model_selection import cross_val_score\n",
    "from sklearn.metrics import mean_squared_error, r2_score\n",
    "from joblib import dump"
   ]
  },
  {
   "cell_type": "code",
   "execution_count": 60,
   "metadata": {},
   "outputs": [],
   "source": [
    "# Read the CSV file using pandas\n",
    "govData = pd.read_csv('UK_gov_cleaned_data.csv', encoding=\"ISO-8859-1\")"
   ]
  },
  {
   "cell_type": "code",
   "execution_count": 61,
   "metadata": {},
   "outputs": [],
   "source": [
    "ctsFeatures = [\"Engine Capacity\", \"Engine Power (PS)\"]\n",
    "cateFeatures = [\"Manufacturer\", \"Transmission\", \"Fuel Type\", \"Powertrain\",\"Year\"]\n",
    "features = ctsFeatures + cateFeatures\n",
    "target = \"WLTP CO2\""
   ]
  },
  {
   "cell_type": "code",
   "execution_count": 62,
   "metadata": {},
   "outputs": [],
   "source": [
    "# Create feature and target arrays\n",
    "X_onehot = govData[features].copy()\n",
    "y = govData[target]\n"
   ]
  },
  {
   "cell_type": "code",
   "execution_count": 63,
   "metadata": {},
   "outputs": [],
   "source": [
    "# Encode categorical features\n",
    "X_onehot = pd.get_dummies(X_onehot, columns=cateFeatures)"
   ]
  },
  {
   "cell_type": "code",
   "execution_count": 64,
   "metadata": {},
   "outputs": [],
   "source": [
    "# Create the train/test split\n",
    "testSize = 0.2\n",
    "trainX_onehot, testX_onehot, trainy, testy = train_test_split(X_onehot, y, test_size=testSize, random_state=1)"
   ]
  },
  {
   "cell_type": "code",
   "execution_count": 65,
   "metadata": {},
   "outputs": [],
   "source": [
    "# Feature Scaling\n",
    "scaler = StandardScaler()\n",
    "trainX_onehot = scaler.fit_transform(trainX_onehot)\n",
    "testX_onehot = scaler.transform(testX_onehot)"
   ]
  },
  {
   "cell_type": "code",
   "execution_count": 66,
   "metadata": {},
   "outputs": [],
   "source": [
    "# Hyperparameters for HYPEROPT Bayesian Optimisation (with TPE).\n",
    "params_hyperopt = {\n",
    "    \"max_depth\": hp.choice(\"max_depth\", np.arange(3, 7+1, dtype=int)),\n",
    "    \"gamma\": hp.uniform(\"gamma\", 0.5, 5),\n",
    "    \"reg_alpha\": hp.uniform(\"reg_alpha\", 0, 5),\n",
    "    \"subsample\": hp.uniform(\"subsample\", 0.4, 1),\n",
    "    \"colsample_bytree\": hp.uniform(\"colsample_bytree\", 0.4, 1),\n",
    "    \"min_child_weight\": hp.choice(\"min_child_weight\", np.arange(1, 10+1, dtype=int)),\n",
    "    \"learning_rate\":  hp.uniform (\"learning_rate\", 0.01, 0.5),\n",
    "    \"n_estimators\": hp.choice(\"n_estimators\", np.arange(100, 600+1, dtype=int))\n",
    "}"
   ]
  },
  {
   "cell_type": "markdown",
   "metadata": {},
   "source": []
  },
  {
   "cell_type": "code",
   "execution_count": 70,
   "metadata": {},
   "outputs": [],
   "source": [
    "# Custom evaluation function to keep track of train and test RMSE\n",
    "def custom_eval(space):\n",
    "    model = XGBRegressor(**space, objective=\"reg:squarederror\", verbosity=0, nthread=-1, seed=1)\n",
    "    \n",
    "    eval_set = [(trainX_onehot, trainy), (testX_onehot, testy)]\n",
    "    eval_result = model.fit(trainX_onehot, trainy, eval_metric=\"rmse\", eval_set=eval_set, verbose=False)\n",
    "    \n",
    "    train_loss = eval_result.evals_result()['validation_0']['rmse']\n",
    "    test_loss = eval_result.evals_result()['validation_1']['rmse']\n",
    "    \n",
    "    # You may return or utilize the losses as needed for your project\n",
    "    return mean_squared_error(testy, model.predict(testX_onehot))"
   ]
  },
  {
   "cell_type": "code",
   "execution_count": 74,
   "metadata": {},
   "outputs": [
    {
     "name": "stdout",
     "output_type": "stream",
     "text": [
      "100%|██████████████████████████████████████████████| 100/100 [31:05<00:00, 18.66s/trial, best loss: 12.484512352946748]\n",
      "Time elapsed in training: 1865.681918\n",
      "Best HYPEROPT hyperparameters: \n",
      "{'colsample_bytree': 0.4770070719685614, 'gamma': 2.597188259597313, 'learning_rate': 0.38301251745554543, 'max_depth': 6, 'min_child_weight': 9, 'n_estimators': 406, 'reg_alpha': 1.9899253698206805, 'subsample': 0.9978835505476024}\n",
      "Train RMSE: 11.078180\n",
      "Test RMSE: 12.881270\n",
      "Train Accuracy: 0.958195\n",
      "Test Accuracy: 0.942260\n"
     ]
    }
   ],
   "source": [
    "# Time duration of HYPEROPT\n",
    "rstate = np.random.default_rng(1)\n",
    "t5 = time()\n",
    "\n",
    "params_hyperopt_best = fmin(fn = lambda space: (-sum(cross_val_score(XGBRegressor(**space, objective=\"reg:squarederror\", verbosity=0, nthread=-1, seed=1),\n",
    "                                                                   trainX_onehot, trainy, scoring=\"neg_root_mean_squared_error\", cv=10))/10),\n",
    "                            space = params_hyperopt, algo = tpe.suggest, max_evals = 100, rstate=rstate, return_argmin=False)\n",
    "t6 = time()\n",
    "print(\"Time elapsed in training: %f\" % (t6-t5))\n",
    "\n",
    "# Create XGB using HYPEROPT's best found hyperparameters.\n",
    "xgb_onehot_hyperopt_best = XGBRegressor(**params_hyperopt_best, objective=\"reg:squarederror\", verbosity=0, nthread=-1, seed=1)\n",
    "xgb_onehot_hyperopt_best.fit(trainX_onehot, trainy)\n",
    "trainPreds = xgb_onehot_hyperopt_best.predict(trainX_onehot)\n",
    "testPreds = xgb_onehot_hyperopt_best.predict(testX_onehot)\n",
    "\n",
    "print(\"Best HYPEROPT hyperparameters: \")\n",
    "print(params_hyperopt_best)\n",
    "\n",
    "print(\"Train RMSE: %f\" % (np.sqrt(mean_squared_error(trainy, trainPreds))))\n",
    "print(\"Test RMSE: %f\" % (np.sqrt(mean_squared_error(testy, testPreds))))\n",
    "print(\"Train Accuracy: %f\" % (r2_score(trainy, trainPreds)))\n",
    "print(\"Test Accuracy: %f\" % (r2_score(testy, testPreds)))"
   ]
  },
  {
   "cell_type": "code",
   "execution_count": 72,
   "metadata": {},
   "outputs": [
    {
     "data": {
      "text/plain": [
       "['scaler.joblib']"
      ]
     },
     "execution_count": 72,
     "metadata": {},
     "output_type": "execute_result"
    }
   ],
   "source": [
    "# Save the trained XGBoost model\n",
    "dump(xgb_onehot_hyperopt_best, 'xgb_model.joblib')\n",
    "\n",
    "# Save the StandardScaler\n",
    "dump(scaler, 'scaler.joblib')"
   ]
  },
  {
   "cell_type": "markdown",
   "metadata": {},
   "source": [
    "### Viewing the Testing Data "
   ]
  },
  {
   "cell_type": "code",
   "execution_count": 175,
   "metadata": {},
   "outputs": [],
   "source": [
    "def predict(input_data, features):\n",
    "    # Defining the features\n",
    "    ctsFeatures = [\"Engine Capacity\", \"Engine Power (PS)\"]\n",
    "    cateFeatures = [\"Manufacturer\", \"Transmission\", \"Fuel Type\", \"Powertrain\", \"Year\"]\n",
    "    features = ctsFeatures + cateFeatures\n",
    "    \n",
    "    # Prepare input data for prediction\n",
    "    input_df_empty = pd.DataFrame([], columns=X_onehot.columns)\n",
    "    input_df = pd.DataFrame([input_data], columns=features)\n",
    "    input_df[ctsFeatures] = input_df[ctsFeatures].apply(pd.to_numeric)\n",
    "    input_encoded = pd.get_dummies(input_df, columns=cateFeatures)\n",
    "\n",
    "    for col in input_encoded.columns:\n",
    "        input_df_empty[col] = input_encoded[col]\n",
    "\n",
    "    input_df_final = input_df_empty.fillna(0)\n",
    "    \n",
    "    # Scale the input data\n",
    "    input_scaled = scaler.transform(input_df_final)\n",
    "\n",
    "    # Make predictions\n",
    "    predictions = xgb_onehot_hyperopt_best.predict(input_scaled)\n",
    "\n",
    "    return predictions\n"
   ]
  },
  {
   "cell_type": "code",
   "execution_count": 176,
   "metadata": {},
   "outputs": [],
   "source": [
    "input_data = [ '1969', '390.0','VOLVO','8A-AWD','Electricity / Petrol','Plug-in Hybrid Electric Vehicle (PHEV)', \"2023\"]\n"
   ]
  },
  {
   "cell_type": "code",
   "execution_count": 178,
   "metadata": {},
   "outputs": [
    {
     "data": {
      "text/plain": [
       "array([89.44484], dtype=float32)"
      ]
     },
     "execution_count": 178,
     "metadata": {},
     "output_type": "execute_result"
    }
   ],
   "source": [
    "predict(input_data, features)"
   ]
  },
  {
   "cell_type": "code",
   "execution_count": 180,
   "metadata": {},
   "outputs": [
    {
     "data": {
      "text/html": [
       "<div>\n",
       "<style scoped>\n",
       "    .dataframe tbody tr th:only-of-type {\n",
       "        vertical-align: middle;\n",
       "    }\n",
       "\n",
       "    .dataframe tbody tr th {\n",
       "        vertical-align: top;\n",
       "    }\n",
       "\n",
       "    .dataframe thead th {\n",
       "        text-align: right;\n",
       "    }\n",
       "</style>\n",
       "<table border=\"1\" class=\"dataframe\">\n",
       "  <thead>\n",
       "    <tr style=\"text-align: right;\">\n",
       "      <th></th>\n",
       "      <th>Engine Capacity</th>\n",
       "      <th>Engine Power (PS)</th>\n",
       "      <th>Manufacturer_ABARTH</th>\n",
       "      <th>Manufacturer_ALFA ROMEO</th>\n",
       "      <th>Manufacturer_ALPINE</th>\n",
       "      <th>Manufacturer_ASTON MARTIN LAGONDA</th>\n",
       "      <th>Manufacturer_BENTLEY MOTORS</th>\n",
       "      <th>Manufacturer_BMW</th>\n",
       "      <th>Manufacturer_CADILLAC</th>\n",
       "      <th>Manufacturer_CHEVROLET</th>\n",
       "      <th>...</th>\n",
       "      <th>Powertrain_Internal Combustion Engine (ICE)</th>\n",
       "      <th>Powertrain_Micro-hybrid</th>\n",
       "      <th>Powertrain_Mild Hybrid Electric Vehicle (MHEV)</th>\n",
       "      <th>Powertrain_Plug-in Hybrid Electric Vehicle (PHEV)</th>\n",
       "      <th>Year_2019</th>\n",
       "      <th>Year_2020</th>\n",
       "      <th>Year_2021</th>\n",
       "      <th>Year_2022</th>\n",
       "      <th>Year_2023</th>\n",
       "      <th>WLTP CO2</th>\n",
       "    </tr>\n",
       "  </thead>\n",
       "  <tbody>\n",
       "    <tr>\n",
       "      <th>0</th>\n",
       "      <td>-0.354283</td>\n",
       "      <td>-0.311174</td>\n",
       "      <td>-0.093233</td>\n",
       "      <td>-0.093233</td>\n",
       "      <td>-0.058649</td>\n",
       "      <td>-0.051239</td>\n",
       "      <td>-0.054849</td>\n",
       "      <td>-0.009759</td>\n",
       "      <td>-0.021825</td>\n",
       "      <td>-0.015431</td>\n",
       "      <td>...</td>\n",
       "      <td>-1.888671</td>\n",
       "      <td>-0.027611</td>\n",
       "      <td>-0.164286</td>\n",
       "      <td>-0.146615</td>\n",
       "      <td>-0.519215</td>\n",
       "      <td>-0.475405</td>\n",
       "      <td>1.717225</td>\n",
       "      <td>-0.460133</td>\n",
       "      <td>-0.46112</td>\n",
       "      <td>130.0</td>\n",
       "    </tr>\n",
       "    <tr>\n",
       "      <th>1</th>\n",
       "      <td>1.401310</td>\n",
       "      <td>1.793268</td>\n",
       "      <td>-0.093233</td>\n",
       "      <td>-0.093233</td>\n",
       "      <td>-0.058649</td>\n",
       "      <td>-0.051239</td>\n",
       "      <td>-0.054849</td>\n",
       "      <td>-0.009759</td>\n",
       "      <td>-0.021825</td>\n",
       "      <td>-0.015431</td>\n",
       "      <td>...</td>\n",
       "      <td>0.529473</td>\n",
       "      <td>-0.027611</td>\n",
       "      <td>-0.164286</td>\n",
       "      <td>-0.146615</td>\n",
       "      <td>-0.519215</td>\n",
       "      <td>2.103470</td>\n",
       "      <td>-0.582335</td>\n",
       "      <td>-0.460133</td>\n",
       "      <td>-0.46112</td>\n",
       "      <td>204.0</td>\n",
       "    </tr>\n",
       "    <tr>\n",
       "      <th>2</th>\n",
       "      <td>-0.002695</td>\n",
       "      <td>-0.679694</td>\n",
       "      <td>-0.093233</td>\n",
       "      <td>-0.093233</td>\n",
       "      <td>-0.058649</td>\n",
       "      <td>-0.051239</td>\n",
       "      <td>-0.054849</td>\n",
       "      <td>-0.009759</td>\n",
       "      <td>-0.021825</td>\n",
       "      <td>-0.015431</td>\n",
       "      <td>...</td>\n",
       "      <td>-1.888671</td>\n",
       "      <td>-0.027611</td>\n",
       "      <td>-0.164286</td>\n",
       "      <td>-0.146615</td>\n",
       "      <td>-0.519215</td>\n",
       "      <td>-0.475405</td>\n",
       "      <td>1.717225</td>\n",
       "      <td>-0.460133</td>\n",
       "      <td>-0.46112</td>\n",
       "      <td>110.0</td>\n",
       "    </tr>\n",
       "    <tr>\n",
       "      <th>3</th>\n",
       "      <td>0.197710</td>\n",
       "      <td>0.076741</td>\n",
       "      <td>-0.093233</td>\n",
       "      <td>-0.093233</td>\n",
       "      <td>-0.058649</td>\n",
       "      <td>-0.051239</td>\n",
       "      <td>-0.054849</td>\n",
       "      <td>-0.009759</td>\n",
       "      <td>-0.021825</td>\n",
       "      <td>-0.015431</td>\n",
       "      <td>...</td>\n",
       "      <td>0.529473</td>\n",
       "      <td>-0.027611</td>\n",
       "      <td>-0.164286</td>\n",
       "      <td>-0.146615</td>\n",
       "      <td>1.925985</td>\n",
       "      <td>-0.475405</td>\n",
       "      <td>-0.582335</td>\n",
       "      <td>-0.460133</td>\n",
       "      <td>-0.46112</td>\n",
       "      <td>169.0</td>\n",
       "    </tr>\n",
       "    <tr>\n",
       "      <th>4</th>\n",
       "      <td>-0.353111</td>\n",
       "      <td>-0.553621</td>\n",
       "      <td>-0.093233</td>\n",
       "      <td>-0.093233</td>\n",
       "      <td>-0.058649</td>\n",
       "      <td>-0.051239</td>\n",
       "      <td>-0.054849</td>\n",
       "      <td>-0.009759</td>\n",
       "      <td>-0.021825</td>\n",
       "      <td>-0.015431</td>\n",
       "      <td>...</td>\n",
       "      <td>0.529473</td>\n",
       "      <td>-0.027611</td>\n",
       "      <td>-0.164286</td>\n",
       "      <td>-0.146615</td>\n",
       "      <td>1.925985</td>\n",
       "      <td>-0.475405</td>\n",
       "      <td>-0.582335</td>\n",
       "      <td>-0.460133</td>\n",
       "      <td>-0.46112</td>\n",
       "      <td>159.0</td>\n",
       "    </tr>\n",
       "    <tr>\n",
       "      <th>...</th>\n",
       "      <td>...</td>\n",
       "      <td>...</td>\n",
       "      <td>...</td>\n",
       "      <td>...</td>\n",
       "      <td>...</td>\n",
       "      <td>...</td>\n",
       "      <td>...</td>\n",
       "      <td>...</td>\n",
       "      <td>...</td>\n",
       "      <td>...</td>\n",
       "      <td>...</td>\n",
       "      <td>...</td>\n",
       "      <td>...</td>\n",
       "      <td>...</td>\n",
       "      <td>...</td>\n",
       "      <td>...</td>\n",
       "      <td>...</td>\n",
       "      <td>...</td>\n",
       "      <td>...</td>\n",
       "      <td>...</td>\n",
       "      <td>...</td>\n",
       "    </tr>\n",
       "    <tr>\n",
       "      <th>5247</th>\n",
       "      <td>-0.397645</td>\n",
       "      <td>-0.844558</td>\n",
       "      <td>-0.093233</td>\n",
       "      <td>-0.093233</td>\n",
       "      <td>-0.058649</td>\n",
       "      <td>-0.051239</td>\n",
       "      <td>-0.054849</td>\n",
       "      <td>-0.009759</td>\n",
       "      <td>-0.021825</td>\n",
       "      <td>-0.015431</td>\n",
       "      <td>...</td>\n",
       "      <td>0.529473</td>\n",
       "      <td>-0.027611</td>\n",
       "      <td>-0.164286</td>\n",
       "      <td>-0.146615</td>\n",
       "      <td>-0.519215</td>\n",
       "      <td>-0.475405</td>\n",
       "      <td>1.717225</td>\n",
       "      <td>-0.460133</td>\n",
       "      <td>-0.46112</td>\n",
       "      <td>127.0</td>\n",
       "    </tr>\n",
       "    <tr>\n",
       "      <th>5248</th>\n",
       "      <td>5.448080</td>\n",
       "      <td>5.846986</td>\n",
       "      <td>-0.093233</td>\n",
       "      <td>-0.093233</td>\n",
       "      <td>-0.058649</td>\n",
       "      <td>-0.051239</td>\n",
       "      <td>-0.054849</td>\n",
       "      <td>-0.009759</td>\n",
       "      <td>-0.021825</td>\n",
       "      <td>-0.015431</td>\n",
       "      <td>...</td>\n",
       "      <td>0.529473</td>\n",
       "      <td>-0.027611</td>\n",
       "      <td>-0.164286</td>\n",
       "      <td>-0.146615</td>\n",
       "      <td>-0.519215</td>\n",
       "      <td>-0.475405</td>\n",
       "      <td>-0.582335</td>\n",
       "      <td>2.173283</td>\n",
       "      <td>-0.46112</td>\n",
       "      <td>373.0</td>\n",
       "    </tr>\n",
       "    <tr>\n",
       "      <th>5249</th>\n",
       "      <td>-0.237087</td>\n",
       "      <td>-0.446945</td>\n",
       "      <td>-0.093233</td>\n",
       "      <td>-0.093233</td>\n",
       "      <td>-0.058649</td>\n",
       "      <td>-0.051239</td>\n",
       "      <td>-0.054849</td>\n",
       "      <td>-0.009759</td>\n",
       "      <td>-0.021825</td>\n",
       "      <td>-0.015431</td>\n",
       "      <td>...</td>\n",
       "      <td>-1.888671</td>\n",
       "      <td>-0.027611</td>\n",
       "      <td>-0.164286</td>\n",
       "      <td>-0.146615</td>\n",
       "      <td>-0.519215</td>\n",
       "      <td>2.103470</td>\n",
       "      <td>-0.582335</td>\n",
       "      <td>-0.460133</td>\n",
       "      <td>-0.46112</td>\n",
       "      <td>120.0</td>\n",
       "    </tr>\n",
       "    <tr>\n",
       "      <th>5250</th>\n",
       "      <td>-0.354283</td>\n",
       "      <td>-0.088123</td>\n",
       "      <td>-0.093233</td>\n",
       "      <td>-0.093233</td>\n",
       "      <td>-0.058649</td>\n",
       "      <td>-0.051239</td>\n",
       "      <td>-0.054849</td>\n",
       "      <td>-0.009759</td>\n",
       "      <td>-0.021825</td>\n",
       "      <td>-0.015431</td>\n",
       "      <td>...</td>\n",
       "      <td>0.529473</td>\n",
       "      <td>-0.027611</td>\n",
       "      <td>-0.164286</td>\n",
       "      <td>-0.146615</td>\n",
       "      <td>-0.519215</td>\n",
       "      <td>2.103470</td>\n",
       "      <td>-0.582335</td>\n",
       "      <td>-0.460133</td>\n",
       "      <td>-0.46112</td>\n",
       "      <td>171.0</td>\n",
       "    </tr>\n",
       "    <tr>\n",
       "      <th>5251</th>\n",
       "      <td>0.230524</td>\n",
       "      <td>-0.311174</td>\n",
       "      <td>-0.093233</td>\n",
       "      <td>-0.093233</td>\n",
       "      <td>-0.058649</td>\n",
       "      <td>-0.051239</td>\n",
       "      <td>-0.054849</td>\n",
       "      <td>-0.009759</td>\n",
       "      <td>-0.021825</td>\n",
       "      <td>-0.015431</td>\n",
       "      <td>...</td>\n",
       "      <td>0.529473</td>\n",
       "      <td>-0.027611</td>\n",
       "      <td>-0.164286</td>\n",
       "      <td>-0.146615</td>\n",
       "      <td>-0.519215</td>\n",
       "      <td>-0.475405</td>\n",
       "      <td>-0.582335</td>\n",
       "      <td>2.173283</td>\n",
       "      <td>-0.46112</td>\n",
       "      <td>192.0</td>\n",
       "    </tr>\n",
       "  </tbody>\n",
       "</table>\n",
       "<p>5252 rows × 120 columns</p>\n",
       "</div>"
      ],
      "text/plain": [
       "      Engine Capacity  Engine Power (PS)  Manufacturer_ABARTH  \\\n",
       "0           -0.354283          -0.311174            -0.093233   \n",
       "1            1.401310           1.793268            -0.093233   \n",
       "2           -0.002695          -0.679694            -0.093233   \n",
       "3            0.197710           0.076741            -0.093233   \n",
       "4           -0.353111          -0.553621            -0.093233   \n",
       "...               ...                ...                  ...   \n",
       "5247        -0.397645          -0.844558            -0.093233   \n",
       "5248         5.448080           5.846986            -0.093233   \n",
       "5249        -0.237087          -0.446945            -0.093233   \n",
       "5250        -0.354283          -0.088123            -0.093233   \n",
       "5251         0.230524          -0.311174            -0.093233   \n",
       "\n",
       "      Manufacturer_ALFA ROMEO  Manufacturer_ALPINE  \\\n",
       "0                   -0.093233            -0.058649   \n",
       "1                   -0.093233            -0.058649   \n",
       "2                   -0.093233            -0.058649   \n",
       "3                   -0.093233            -0.058649   \n",
       "4                   -0.093233            -0.058649   \n",
       "...                       ...                  ...   \n",
       "5247                -0.093233            -0.058649   \n",
       "5248                -0.093233            -0.058649   \n",
       "5249                -0.093233            -0.058649   \n",
       "5250                -0.093233            -0.058649   \n",
       "5251                -0.093233            -0.058649   \n",
       "\n",
       "      Manufacturer_ASTON MARTIN LAGONDA  Manufacturer_BENTLEY MOTORS  \\\n",
       "0                             -0.051239                    -0.054849   \n",
       "1                             -0.051239                    -0.054849   \n",
       "2                             -0.051239                    -0.054849   \n",
       "3                             -0.051239                    -0.054849   \n",
       "4                             -0.051239                    -0.054849   \n",
       "...                                 ...                          ...   \n",
       "5247                          -0.051239                    -0.054849   \n",
       "5248                          -0.051239                    -0.054849   \n",
       "5249                          -0.051239                    -0.054849   \n",
       "5250                          -0.051239                    -0.054849   \n",
       "5251                          -0.051239                    -0.054849   \n",
       "\n",
       "      Manufacturer_BMW  Manufacturer_CADILLAC  Manufacturer_CHEVROLET  ...  \\\n",
       "0            -0.009759              -0.021825               -0.015431  ...   \n",
       "1            -0.009759              -0.021825               -0.015431  ...   \n",
       "2            -0.009759              -0.021825               -0.015431  ...   \n",
       "3            -0.009759              -0.021825               -0.015431  ...   \n",
       "4            -0.009759              -0.021825               -0.015431  ...   \n",
       "...                ...                    ...                     ...  ...   \n",
       "5247         -0.009759              -0.021825               -0.015431  ...   \n",
       "5248         -0.009759              -0.021825               -0.015431  ...   \n",
       "5249         -0.009759              -0.021825               -0.015431  ...   \n",
       "5250         -0.009759              -0.021825               -0.015431  ...   \n",
       "5251         -0.009759              -0.021825               -0.015431  ...   \n",
       "\n",
       "      Powertrain_Internal Combustion Engine (ICE)  Powertrain_Micro-hybrid  \\\n",
       "0                                       -1.888671                -0.027611   \n",
       "1                                        0.529473                -0.027611   \n",
       "2                                       -1.888671                -0.027611   \n",
       "3                                        0.529473                -0.027611   \n",
       "4                                        0.529473                -0.027611   \n",
       "...                                           ...                      ...   \n",
       "5247                                     0.529473                -0.027611   \n",
       "5248                                     0.529473                -0.027611   \n",
       "5249                                    -1.888671                -0.027611   \n",
       "5250                                     0.529473                -0.027611   \n",
       "5251                                     0.529473                -0.027611   \n",
       "\n",
       "      Powertrain_Mild Hybrid Electric Vehicle (MHEV)  \\\n",
       "0                                          -0.164286   \n",
       "1                                          -0.164286   \n",
       "2                                          -0.164286   \n",
       "3                                          -0.164286   \n",
       "4                                          -0.164286   \n",
       "...                                              ...   \n",
       "5247                                       -0.164286   \n",
       "5248                                       -0.164286   \n",
       "5249                                       -0.164286   \n",
       "5250                                       -0.164286   \n",
       "5251                                       -0.164286   \n",
       "\n",
       "      Powertrain_Plug-in Hybrid Electric Vehicle (PHEV)  Year_2019  Year_2020  \\\n",
       "0                                             -0.146615  -0.519215  -0.475405   \n",
       "1                                             -0.146615  -0.519215   2.103470   \n",
       "2                                             -0.146615  -0.519215  -0.475405   \n",
       "3                                             -0.146615   1.925985  -0.475405   \n",
       "4                                             -0.146615   1.925985  -0.475405   \n",
       "...                                                 ...        ...        ...   \n",
       "5247                                          -0.146615  -0.519215  -0.475405   \n",
       "5248                                          -0.146615  -0.519215  -0.475405   \n",
       "5249                                          -0.146615  -0.519215   2.103470   \n",
       "5250                                          -0.146615  -0.519215   2.103470   \n",
       "5251                                          -0.146615  -0.519215  -0.475405   \n",
       "\n",
       "      Year_2021  Year_2022  Year_2023  WLTP CO2  \n",
       "0      1.717225  -0.460133   -0.46112     130.0  \n",
       "1     -0.582335  -0.460133   -0.46112     204.0  \n",
       "2      1.717225  -0.460133   -0.46112     110.0  \n",
       "3     -0.582335  -0.460133   -0.46112     169.0  \n",
       "4     -0.582335  -0.460133   -0.46112     159.0  \n",
       "...         ...        ...        ...       ...  \n",
       "5247   1.717225  -0.460133   -0.46112     127.0  \n",
       "5248  -0.582335   2.173283   -0.46112     373.0  \n",
       "5249  -0.582335  -0.460133   -0.46112     120.0  \n",
       "5250  -0.582335  -0.460133   -0.46112     171.0  \n",
       "5251  -0.582335   2.173283   -0.46112     192.0  \n",
       "\n",
       "[5252 rows x 120 columns]"
      ]
     },
     "execution_count": 180,
     "metadata": {},
     "output_type": "execute_result"
    }
   ],
   "source": [
    "testX_onehot_df"
   ]
  },
  {
   "cell_type": "code",
   "execution_count": 55,
   "metadata": {},
   "outputs": [
    {
     "data": {
      "image/png": "[encoded data removed]",
      "text/plain": [
       "<Figure size 640x480 with 1 Axes>"
      ]
     },
     "metadata": {},
     "output_type": "display_data"
    },
    {
     "data": {
      "image/png": "[encoded data removed]",
      "text/plain": [
       "<Figure size 640x480 with 1 Axes>"
      ]
     },
     "metadata": {},
     "output_type": "display_data"
    }
   ],
   "source": [
    "import matplotlib.pyplot as plt\n",
    "\n",
    "# Function to plot predicted vs actual values\n",
    "def plot_predicted_vs_actual(y_actual, y_pred, title):\n",
    "    plt.scatter(y_actual, y_pred, alpha=0.5)\n",
    "    plt.xlabel('Actual Values')\n",
    "    plt.ylabel('Predicted Values')\n",
    "    plt.title(title)\n",
    "    plt.plot([min(y_actual), max(y_actual)], [min(y_actual), max(y_actual)], color='red')\n",
    "    plt.show()\n",
    "\n",
    "# Plotting for training data\n",
    "plot_predicted_vs_actual(trainy, trainPreds, 'Predicted vs Actual Values (Training Data)')\n",
    "\n",
    "# Plotting for testing data\n",
    "plot_predicted_vs_actual(testy, testPreds, 'Predicted vs Actual Values (Testing Data)')\n",
    "\n"
   ]
  },
  {
   "cell_type": "markdown",
   "metadata": {},
   "source": [
    "\n",
    "# Feature importance \n"
   ]
  },
  {
   "cell_type": "code",
   "execution_count": 200,
   "metadata": {},
   "outputs": [],
   "source": [
    "import matplotlib.pyplot as plt\n",
    "\n",
    "# Get feature importance\n",
    "importance = xgb_onehot_hyperopt_best.feature_importances_"
   ]
  },
  {
   "cell_type": "code",
   "execution_count": 201,
   "metadata": {},
   "outputs": [],
   "source": [
    "# Sum up the importance for one-hot encoded features\n",
    "importance_dict = {}\n",
    "for i, col_name in enumerate(X_onehot.columns):\n",
    "    base_name = col_name.split('_')[0]\n",
    "    if base_name in cateFeatures:\n",
    "        if base_name not in importance_dict:\n",
    "            importance_dict[base_name] = 0\n",
    "        importance_dict[base_name] += importance[i]\n",
    "    else:\n",
    "        importance_dict[col_name] = importance[i]"
   ]
  },
  {
   "cell_type": "code",
   "execution_count": 202,
   "metadata": {},
   "outputs": [],
   "source": [
    "# Sort by importance\n",
    "sorted_importance = sorted(importance_dict.items(), key=lambda x: x[1], reverse=True)"
   ]
  },
  {
   "cell_type": "code",
   "execution_count": 204,
   "metadata": {},
   "outputs": [
    {
     "data": {
      "image/png": "[encoded data removed]",
      "text/plain": [
       "<Figure size 800x400 with 1 Axes>"
      ]
     },
     "metadata": {},
     "output_type": "display_data"
    }
   ],
   "source": [
    "# Plot\n",
    "plt.figure(figsize=(8,4))\n",
    "plt.bar([x[0] for x in sorted_importance], [x[1] for x in sorted_importance])\n",
    "plt.xticks(rotation=90)\n",
    "plt.ylabel('Importance')\n",
    "plt.title('Feature Importance')\n",
    "plt.show()\n"
   ]
  },
  {
   "cell_type": "markdown",
   "metadata": {
    "id": "RMb8wUYu_OsQ"
   },
   "source": [
    "# KNN USING HYPEROPT BAYESIAN OPTIMISATION (One hot encoding)"
   ]
  },
  {
   "cell_type": "code",
   "execution_count": 56,
   "metadata": {},
   "outputs": [
    {
     "name": "stdout",
     "output_type": "stream",
     "text": [
      "100%|██████████████████████████████████████████████| 100/100 [04:37<00:00,  2.77s/trial, best loss: 13.847341048919684]\n",
      "Time elapsed in training: 277.329544\n",
      "Best HYPEROPT hyperparameters: \n",
      "{'n_neighbors': 12, 'p': 1, 'weights': 'distance'}\n",
      "Train RMSE: 10.871640\n",
      "Test RMSE: 13.719861\n",
      "Train Accuracy: 0.959740\n",
      "Test Accuracy: 0.934498\n"
     ]
    }
   ],
   "source": [
    "import pandas as pd\n",
    "from sklearn.model_selection import train_test_split, cross_val_score\n",
    "from sklearn.metrics import mean_squared_error, r2_score\n",
    "from sklearn.neighbors import KNeighborsRegressor\n",
    "from sklearn.preprocessing import StandardScaler\n",
    "from hyperopt import fmin, tpe, hp\n",
    "import numpy as np\n",
    "from time import time\n",
    "\n",
    "# Read the CSV file using pandas\n",
    "govData = pd.read_csv('UK_gov_cleaned_data.csv', encoding=\"ISO-8859-1\")\n",
    "\n",
    "ctsFeatures = [\"Engine Capacity\", \"Engine Power (PS)\"]\n",
    "cateFeatures = [\"Manufacturer\", \"Transmission\", \"Fuel Type\", \"Powertrain\",\"Year\"]\n",
    "features = ctsFeatures + cateFeatures\n",
    "target = \"WLTP CO2\"\n",
    "\n",
    "# Create feature and target arrays\n",
    "X_onehot = govData[features].copy()\n",
    "y = govData[target]\n",
    "\n",
    "# Encode categorical features\n",
    "X_onehot = pd.get_dummies(X_onehot, columns=cateFeatures)\n",
    "\n",
    "# Create the train/test split\n",
    "testSize = 0.2\n",
    "trainX_onehot, testX_onehot, trainy, testy = train_test_split(X_onehot, y, test_size=testSize, random_state=1)\n",
    "\n",
    "# Apply scaling\n",
    "scaler = StandardScaler()\n",
    "trainX_onehot = scaler.fit_transform(trainX_onehot)\n",
    "testX_onehot = scaler.transform(testX_onehot)\n",
    "\n",
    "# Hyperparameters for HYPEROPT Bayesian Optimisation (with TPE) for KNeighborsRegressor.\n",
    "params_hyperopt = {\n",
    "    \"n_neighbors\": hp.choice(\"n_neighbors\", np.arange(1, 50+1, dtype=int)),\n",
    "    \"weights\": hp.choice(\"weights\", [\"uniform\", \"distance\"]),\n",
    "    \"p\": hp.choice(\"p\", [1, 2]),\n",
    "}\n",
    "\n",
    "# Time duration of HYPEROPT.\n",
    "rstate = np.random.default_rng(1)  # Reproducibility.\n",
    "t5 = time()\n",
    "\n",
    "params_hyperopt_best = fmin(fn=lambda space: (-sum(cross_val_score(KNeighborsRegressor(**space),\n",
    "                                                                   trainX_onehot, trainy, scoring=\"neg_root_mean_squared_error\", cv=10)) / 10),\n",
    "                            space=params_hyperopt, algo=tpe.suggest, max_evals=100, rstate=rstate, return_argmin=False)\n",
    "t6 = time()\n",
    "print(\"Time elapsed in training: %f\" % (t6 - t5))\n",
    "\n",
    "# Create KNeighborsRegressor using HYPEROPT's best found hyperparameters.\n",
    "knn_onehot_hyperopt_best = KNeighborsRegressor(**params_hyperopt_best)\n",
    "knn_onehot_hyperopt_best.fit(trainX_onehot, trainy)\n",
    "trainPreds = knn_onehot_hyperopt_best.predict(trainX_onehot)\n",
    "testPreds = knn_onehot_hyperopt_best.predict(testX_onehot)\n",
    "\n",
    "print(\"Best HYPEROPT hyperparameters: \")\n",
    "print(params_hyperopt_best)\n",
    "\n",
    "print(\"Train RMSE: %f\" % (np.sqrt(mean_squared_error(trainy, trainPreds))))\n",
    "print(\"Test RMSE: %f\" % (np.sqrt(mean_squared_error(testy, testPreds))))\n",
    "print(\"Train Accuracy: %f\" % (r2_score(trainy, trainPreds)))\n",
    "print(\"Test Accuracy: %f\" % (r2_score(testy, testPreds)))\n"
   ]
  },
  {
   "cell_type": "markdown",
   "metadata": {},
   "source": [
    "# SVR USING HYPEROPT BAYESIAN OPTIMISATION (One hot encoding)"
   ]
  },
  {
   "cell_type": "code",
   "execution_count": 57,
   "metadata": {},
   "outputs": [
    {
     "name": "stdout",
     "output_type": "stream",
     "text": [
      "100%|████████████████████████████████████████████████| 50/50 [23:50<00:00, 28.62s/trial, best loss: 0.6248711998589624]\n",
      "Time elapsed in training: 1430.852975\n",
      "Best HYPEROPT hyperparameters: \n",
      "{'C': 9.69451130533241, 'epsilon': 0.1375737226066961, 'gamma': 'auto', 'kernel': 'rbf'}\n",
      "Train RMSE: 14.012522\n",
      "Test RMSE: 14.969832\n",
      "Train Accuracy: 0.933116\n",
      "Test Accuracy: 0.922019\n"
     ]
    }
   ],
   "source": [
    "import pandas as pd\n",
    "from sklearn.model_selection import train_test_split, cross_val_score\n",
    "from sklearn.metrics import mean_squared_error, r2_score\n",
    "from sklearn.svm import SVR\n",
    "from sklearn.preprocessing import StandardScaler\n",
    "from hyperopt import fmin, tpe, hp\n",
    "import numpy as np\n",
    "from time import time\n",
    "\n",
    "\n",
    "\n",
    "# Create feature and target arrays\n",
    "X_onehot = govData[features].copy()\n",
    "y = govData[target]\n",
    "\n",
    "# Encode categorical features\n",
    "X_onehot = pd.get_dummies(X_onehot, columns=cateFeatures)\n",
    "\n",
    "# Split the data\n",
    "testSize = 0.2\n",
    "trainX_onehot, testX_onehot, trainy, testy = train_test_split(X_onehot, y, test_size=testSize, random_state=1)\n",
    "\n",
    "# Standardize the data\n",
    "scaler_X = StandardScaler().fit(trainX_onehot)\n",
    "trainX_onehot = scaler_X.transform(trainX_onehot)\n",
    "testX_onehot = scaler_X.transform(testX_onehot)\n",
    "scaler_y = StandardScaler().fit(trainy.values.reshape(-1, 1))\n",
    "trainy = scaler_y.transform(trainy.values.reshape(-1, 1)).ravel()\n",
    "testy = scaler_y.transform(testy.values.reshape(-1, 1)).ravel()\n",
    "\n",
    "# Subset of the data for quicker execution\n",
    "subset_ratio = 0.2\n",
    "subset_indices = np.random.choice(trainX_onehot.shape[0], int(subset_ratio * trainX_onehot.shape[0]), replace=False)\n",
    "trainX_subset = trainX_onehot[subset_indices]\n",
    "trainy_subset = trainy[subset_indices]\n",
    "\n",
    "# Hyperparameters for HYPEROPT Bayesian Optimisation (with TPE) for SVR.\n",
    "params_hyperopt = {\n",
    "    \"C\": hp.loguniform(\"C\", np.log(0.1), np.log(10)),\n",
    "    \"epsilon\": hp.loguniform(\"epsilon\", np.log(0.01), np.log(0.5)),\n",
    "    \"kernel\": hp.choice(\"kernel\", [\"linear\", \"rbf\"]),\n",
    "    \"gamma\": hp.choice(\"gamma\", [\"scale\", \"auto\"])\n",
    "}\n",
    "\n",
    "# Time duration of HYPEROPT.\n",
    "rstate = np.random.default_rng(1)\n",
    "t5 = time()\n",
    "\n",
    "params_hyperopt_best = fmin(fn=lambda space: (-sum(cross_val_score(SVR(**space),\n",
    "                                                                  trainX_subset, trainy_subset, scoring=\"neg_root_mean_squared_error\", cv=10)) / 5),\n",
    "                            space=params_hyperopt, algo=tpe.suggest, max_evals=50, rstate=rstate, return_argmin=False)\n",
    "t6 = time()\n",
    "print(\"Time elapsed in training: %f\" % (t6-t5))\n",
    "\n",
    "# Create SVR using HYPEROPT's best found hyperparameters.\n",
    "svr_onehot_hyperopt_best = SVR(**params_hyperopt_best)\n",
    "svr_onehot_hyperopt_best.fit(trainX_onehot, trainy)\n",
    "trainPreds = svr_onehot_hyperopt_best.predict(trainX_onehot)\n",
    "testPreds = svr_onehot_hyperopt_best.predict(testX_onehot)\n",
    "\n",
    "print(\"Best HYPEROPT hyperparameters: \")\n",
    "print(params_hyperopt_best)\n",
    "\n",
    "# Convert predictions back to original scale\n",
    "trainPreds = scaler_y.inverse_transform(trainPreds.reshape(-1, 1)).ravel()\n",
    "testPreds = scaler_y.inverse_transform(testPreds.reshape(-1, 1)).ravel()\n",
    "trainy = scaler_y.inverse_transform(trainy.reshape(-1, 1)).ravel()\n",
    "testy = scaler_y.inverse_transform(testy.reshape(-1, 1)).ravel()\n",
    "\n",
    "print(\"Train RMSE: %f\" % (np.sqrt(mean_squared_error(trainy, trainPreds))))\n",
    "print(\"Test RMSE: %f\" % (np.sqrt(mean_squared_error(testy, testPreds))))\n",
    "print(\"Train Accuracy: %f\" % (r2_score(trainy, trainPreds)))\n",
    "print(\"Test Accuracy: %f\" % (r2_score(testy, testPreds)))\n"
   ]
  },
  {
   "cell_type": "markdown",
   "metadata": {},
   "source": [
    "# RESULTS"
   ]
  },
  {
   "cell_type": "markdown",
   "metadata": {},
   "source": [
    "# BEST PREFORMING MODELS "
   ]
  },
  {
   "cell_type": "markdown",
   "metadata": {},
   "source": [
    "## Best preforming model from GRID SEARCH CROSS VALIDATION (Basic Hyper parameter tuning) USING ONE HOT ENCODING FOR CATIGORICAL FEATURES"
   ]
  },
  {
   "cell_type": "markdown",
   "metadata": {},
   "source": [
    "### the best preforming model was the XGBoost model with the following score and hyper parameters:"
   ]
  },
  {
   "cell_type": "markdown",
   "metadata": {},
   "source": [
    "Train RMSE: 12.268880\n",
    "\n",
    "Test RMSE: 13.606344\n",
    "\n",
    "Train R-squared: 0.948726\n",
    "\n",
    "Test R-squared: 0.935577\n",
    "\n",
    "### with the following hyper parameters: \n",
    "\n",
    "\n",
    "colsample_bytree: 1.0\n",
    "\n",
    "gamma: 0.5 \n",
    "\n",
    "learning_rate: 0.1 \n",
    "\n",
    "max_depth': 5 \n",
    "\n",
    "min_child_weight: 1 \n",
    "\n",
    "n_estimators: 300 \n",
    "\n",
    "subsample': 0.8\n"
   ]
  },
  {
   "cell_type": "markdown",
   "metadata": {},
   "source": [
    "# Best preforming model from HYPEROPT BAYESIAN OPTIMISATION (Advanced Hyper parameter tuning) USING ONE HOT ENCODING FOR CATIGORICAL FEATURES"
   ]
  },
  {
   "cell_type": "markdown",
   "metadata": {},
   "source": [
    "### the best preforming model was the XGBoost model with the following score and hyper parameters:"
   ]
  },
  {
   "cell_type": "markdown",
   "metadata": {},
   "source": [
    "#### Score:"
   ]
  },
  {
   "cell_type": "markdown",
   "metadata": {},
   "source": [
    "Train RMSE: 11.078180\n",
    "\n",
    "Test RMSE: 12.881270\n",
    "\n",
    "Train Accuracy: 0.958195\n",
    "\n",
    "Test Accuracy: 0.942260"
   ]
  },
  {
   "cell_type": "markdown",
   "metadata": {},
   "source": [
    "#### with the following hyper parameters:"
   ]
  },
  {
   "cell_type": "markdown",
   "metadata": {},
   "source": [
    "colsample_bytree: 0.4 \n",
    "\n",
    "gamma:2.5\n",
    "\n",
    "learning_rate:0.3\n",
    "\n",
    "max_depth: 6 \n",
    "\n",
    "min_child_weight: 9 \n",
    "\n",
    "n_estimators: 406 \n",
    "\n",
    "reg_alpha:1.9\n",
    "\n",
    "subsample: 0.9\n",
    "\n"
   ]
  },
  {
   "cell_type": "markdown",
   "metadata": {},
   "source": [
    "## conclusion "
   ]
  },
  {
   "cell_type": "markdown",
   "metadata": {},
   "source": [
    " The best preforming model was XGBOOST throught the whole experiment and the best hyper parameter tuning technique was HYPEROPT Bayesian optimisation"
   ]
  },
  {
   "cell_type": "code",
   "execution_count": null,
   "metadata": {},
   "outputs": [],
   "source": []
  }
 ],
 "metadata": {
  "accelerator": "GPU",
  "colab": {
   "collapsed_sections": [
    "RMb8wUYu_OsQ",
    "vuy1iD0RvvOh"
   ],
   "gpuType": "T4",
   "provenance": []
  },
  "kernelspec": {
   "display_name": "Python 3 (ipykernel)",
   "language": "python",
   "name": "python3"
  },
  "language_info": {
   "codemirror_mode": {
    "name": "ipython",
    "version": 3
   },
   "file_extension": ".py",
   "mimetype": "text/x-python",
   "name": "python",
   "nbconvert_exporter": "python",
   "pygments_lexer": "ipython3",
   "version": "3.10.9"
  }
 },
 "nbformat": 4,
 "nbformat_minor": 1
}
